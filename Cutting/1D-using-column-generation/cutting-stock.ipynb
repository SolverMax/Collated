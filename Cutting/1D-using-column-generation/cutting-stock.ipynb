{
 "cells": [
  {
   "attachments": {},
   "cell_type": "markdown",
   "metadata": {},
   "source": [
    "# Cutting stock problem with column generation\n",
    "\n",
    "Source: https://github.com/bruscalia/optimization-demo-files/tree/c711c97e7bea736c23d0fa39500000fd52366117/mip/cutting_stock\n",
    "\n",
    "Article: https://towardsdatascience.com/column-generation-in-linear-programming-and-the-cutting-stock-problem-3c697caf4e2b"
   ]
  },
  {
   "attachments": {},
   "cell_type": "markdown",
   "metadata": {},
   "source": [
    "## Restricted master problem\n",
    "\n",
    "$$\n",
    "\\begin{align}\n",
    "    \\text{min} \\quad & \\sum_{p \\in P} c_{p} x_{p} \\\\\n",
    "    \\text{s.t} \\quad & d_{i} \\leq \\sum_{p \\in P} a_{i, p} x_{p} & \\forall \\; i \\in I \\\\\n",
    "    & x_{p} \\geq 0 & \\forall \\; p \\in P \\\\\n",
    "    & x_{p} \\in \\mathbb{Z} & \\forall \\; p \\in P\n",
    "\\end{align}\n",
    "$$"
   ]
  },
  {
   "attachments": {},
   "cell_type": "markdown",
   "metadata": {},
   "source": [
    "## Pricing problem\n",
    "\n",
    "$$\n",
    "\\begin{align}\n",
    "    \\text{max} \\quad & \\sum_{i \\in I} \\pi_{i} y_{i} \\\\\n",
    "    \\text{s.t} \\quad & \\sum_{i \\in I} w_{i} y_{i} \\leq W\\\\\n",
    "    & y_{i} \\geq 0 & \\forall \\; i \\in I \\\\\n",
    "    & y_{i} \\in \\mathbb{Z} & \\forall \\; i \\in I\n",
    "\\end{align}\n",
    "$$"
   ]
  },
  {
   "cell_type": "code",
   "execution_count": 1,
   "metadata": {},
   "outputs": [],
   "source": [
    "import numpy as np\n",
    "import pandas as pd\n",
    "from scipy.optimize import linprog\n",
    "import matplotlib.pyplot as plt"
   ]
  },
  {
   "cell_type": "code",
   "execution_count": 2,
   "metadata": {},
   "outputs": [
    {
     "name": "stdout",
     "output_type": "stream",
     "text": [
      "      w   d\n",
      "0  75.0  38\n",
      "1  71.3  44\n",
      "2  67.0  30\n",
      "3  61.4  41\n",
      "4  58.0  36\n"
     ]
    }
   ],
   "source": [
    "dataset = pd.read_csv(\"data.txt\", sep=\" \")\n",
    "print(dataset.head())"
   ]
  },
  {
   "cell_type": "code",
   "execution_count": 3,
   "metadata": {},
   "outputs": [],
   "source": [
    "def solve_knapsack(W, w, duals):\n",
    "    return linprog(-duals, A_ub=np.atleast_2d(w), b_ub=np.atleast_1d(W), bounds=(0, np.inf), integrality=1)"
   ]
  },
  {
   "cell_type": "code",
   "execution_count": 4,
   "metadata": {},
   "outputs": [
    {
     "name": "stdout",
     "output_type": "stream",
     "text": [
      "        message: Optimization terminated successfully. (HiGHS Status 7: Optimal)\n",
      "        success: True\n",
      "         status: 0\n",
      "            fun: 413.7060606060606\n",
      "              x: [ 3.800e+01  4.400e+01 ...  2.917e+00  3.267e+00]\n",
      "            nit: 0\n",
      "          lower:  residual: [ 3.800e+01  4.400e+01 ...  2.917e+00\n",
      "                              3.267e+00]\n",
      "                 marginals: [ 0.000e+00  0.000e+00 ...  0.000e+00\n",
      "                              0.000e+00]\n",
      "          upper:  residual: [       inf        inf ...        inf\n",
      "                                    inf]\n",
      "                 marginals: [ 0.000e+00  0.000e+00 ...  0.000e+00\n",
      "                              0.000e+00]\n",
      "          eqlin:  residual: []\n",
      "                 marginals: []\n",
      "        ineqlin:  residual: [ 0.000e+00  0.000e+00 ...  0.000e+00\n",
      "                              0.000e+00]\n",
      "                 marginals: [-1.000e+00 -1.000e+00 ... -8.333e-02\n",
      "                             -6.667e-02]\n",
      " mip_node_count: 0\n",
      " mip_dual_bound: 0.0\n",
      "        mip_gap: 0.0\n",
      "[38.         44.         30.         41.         36.         33.\n",
      " 36.         41.         35.         12.33333333 14.66666667 16.33333333\n",
      "  9.25        6.          7.          3.66666667  4.27272727  2.91666667\n",
      "  3.26666667]\n",
      "Compare duality difference: 0.0\n",
      "Iteration: 0; Objective: 413.7060606060606; Reduced cost: -0.591\n",
      "Iteration: 1; Objective: 401.2742424242424; Reduced cost: -0.535\n",
      "Iteration: 2; Objective: 389.5166666666667; Reduced cost: -0.533\n",
      "Iteration: 3; Objective: 380.75000000000006; Reduced cost: -0.500\n",
      "Iteration: 4; Objective: 372.76515151515156; Reduced cost: -0.515\n",
      "Iteration: 5; Objective: 367.9166666666667; Reduced cost: -0.500\n",
      "Iteration: 6; Objective: 362.9611111111111; Reduced cost: -0.511\n",
      "Iteration: 7; Objective: 357.41666666666663; Reduced cost: -0.500\n",
      "Iteration: 8; Objective: 350.73333333333335; Reduced cost: -0.400\n",
      "Iteration: 9; Objective: 346.87301587301585; Reduced cost: -0.413\n",
      "Iteration: 10; Objective: 342.75555555555553; Reduced cost: -0.433\n",
      "Iteration: 11; Objective: 342.1666666666667; Reduced cost: -0.333\n",
      "Rounding solution 339.0\n",
      "Integer solution: 334.0\n"
     ]
    }
   ],
   "source": [
    "# Total width\n",
    "W = 100.0\n",
    "\n",
    "# Width and amount associated with each demand\n",
    "w = dataset.w.values\n",
    "d = dataset.d.values\n",
    "\n",
    "# LP parameters\n",
    "A = np.eye(dataset.shape[0]) * (W // w)\n",
    "c = np.ones_like(w)\n",
    "\n",
    "# Initial solution\n",
    "sol = linprog(c, A_ub=-A, b_ub=-d, bounds=(0, None))\n",
    "sol_dual = linprog(-d, A_ub=A.T, b_ub=c, bounds=(0, None))\n",
    "print(sol)\n",
    "print(sol.x)\n",
    "diff = np.abs(sol_dual.x + sol.ineqlin.marginals).sum()\n",
    "print(f\"Compare duality difference: {diff}\")\n",
    "\n",
    "# Iterate\n",
    "for _ in range(1000):\n",
    "    duals = -sol.ineqlin.marginals\n",
    "    price_sol = solve_knapsack(W, w, duals)\n",
    "    y = price_sol.x\n",
    "    if 1 + price_sol.fun < -1e-4:\n",
    "        print(f\"Iteration: {_}; Objective: {sol.x.sum()}; Reduced cost: {(1 + price_sol.fun):.3f}\")\n",
    "        A = np.hstack((A, y.reshape((-1, 1))))\n",
    "        c = np.append(c, 1)\n",
    "        sol = linprog(c, A_ub=-A, b_ub=-d, bounds=(0, None))\n",
    "    else:\n",
    "        break\n",
    "\n",
    "sol_round = linprog(c, A_ub=-A, b_ub=-d, bounds=(0, np.inf), integrality=0)\n",
    "print(f\"Rounding solution {np.ceil(sol_round.x).sum()}\")\n",
    "sol = linprog(c, A_ub=-A, b_ub=-d, bounds=(0, np.inf), integrality=1)\n",
    "print(f\"Integer solution: {sol.x.sum()}\")"
   ]
  },
  {
   "cell_type": "code",
   "execution_count": 5,
   "metadata": {},
   "outputs": [
    {
     "data": {
      "image/png": "[encoded data removed]",
      "text/plain": [
       "<Figure size 700x300 with 1 Axes>"
      ]
     },
     "metadata": {
      "needs_background": "light"
     },
     "output_type": "display_data"
    }
   ],
   "source": [
    "fig, ax = plt.subplots(figsize=[7, 3], dpi=100)\n",
    "hmap = ax.imshow(A > 1e-6, cmap=\"Blues\")\n",
    "plt.axis('off')\n",
    "fig.tight_layout()\n",
    "plt.show()"
   ]
  },
  {
   "cell_type": "code",
   "execution_count": 6,
   "metadata": {},
   "outputs": [
    {
     "name": "stdout",
     "output_type": "stream",
     "text": [
      "        message: Optimization terminated successfully. (HiGHS Status 7: Optimal)\n",
      "        success: True\n",
      "         status: 0\n",
      "            fun: 334.0\n",
      "              x: [ 3.800e+01  4.400e+01 ...  1.000e+00  3.500e+01]\n",
      "            nit: -1\n",
      "          lower:  residual: [ 3.800e+01  4.400e+01 ...  1.000e+00\n",
      "                              3.500e+01]\n",
      "                 marginals: [ 0.000e+00  0.000e+00 ...  0.000e+00\n",
      "                              0.000e+00]\n",
      "          upper:  residual: [       inf        inf ...        inf\n",
      "                                    inf]\n",
      "                 marginals: [ 0.000e+00  0.000e+00 ...  0.000e+00\n",
      "                              0.000e+00]\n",
      "          eqlin:  residual: []\n",
      "                 marginals: []\n",
      "        ineqlin:  residual: [ 0.000e+00  0.000e+00 ...  3.100e+01\n",
      "                              3.000e+00]\n",
      "                 marginals: [ 0.000e+00  0.000e+00 ...  0.000e+00\n",
      "                              0.000e+00]\n",
      " mip_node_count: 1\n",
      " mip_dual_bound: 334.0\n",
      "        mip_gap: 0.0\n",
      "[38. 44. 30. 41.  0.  0.  0.  0.  0.  0.  0.  0.  0.  0.  0.  0.  0.  0.\n",
      "  0.  0. 26.  3.  3. 10. 32. 19. 33. 12.  7.  1. 35.]\n"
     ]
    }
   ],
   "source": [
    "print(sol)\n",
    "print(sol.x)"
   ]
  },
  {
   "cell_type": "code",
   "execution_count": 7,
   "metadata": {},
   "outputs": [
    {
     "name": "stdout",
     "output_type": "stream",
     "text": [
      "[1. 1. 1. 1. 1. 1. 1. 1. 1. 1. 1. 1. 1. 1. 1. 1. 1. 1. 1. 1. 1. 1. 1. 1.\n",
      " 1. 1. 1. 1. 1. 1. 1.]\n"
     ]
    }
   ],
   "source": [
    "print(c)"
   ]
  },
  {
   "cell_type": "code",
   "execution_count": 8,
   "metadata": {},
   "outputs": [
    {
     "name": "stdout",
     "output_type": "stream",
     "text": [
      "1. 0. 0. 0. 0. 0. 0. 0. 0. 0. 0. 0. 0. 0. 0. 0. 0. 0. 0. 0. 0. 0. 0. 0.\n",
      " 0. 0. 0. 0. 0. 0. 0.\n",
      "0. 1. 0. 0. 0. 0. 0. 0. 0. 0. 0. 0. 0. 0. 0. 0. 0. 0. 0. 0. 0. 0. 0. 0.\n",
      " 0. 0. 0. 0. 0. 0. 0.\n",
      "0. 0. 1. 0. 0. 0. 0. 0. 0. 0. 0. 0. 0. 0. 0. 0. 0. 0. 0. 0. 0. 0. 0. 0.\n",
      " 0. 0. 0. 0. 0. 0. 0.\n",
      "0. 0. 0. 1. 0. 0. 0. 0. 0. 0. 0. 0. 0. 0. 0. 0. 0. 0. 0. 0. 0. 0. 0. 0.\n",
      " 0. 0. 0. 0. 0. 0. 0.\n",
      "0. 0. 0. 0. 1. 0. 0. 0. 0. 0. 0. 0. 0. 0. 0. 0. 0. 0. 0. 0. 0. 0. 0. 0.\n",
      " 0. 0. 0. 0. 0. 1. 1.\n",
      "0. 0. 0. 0. 0. 1. 0. 0. 0. 0. 0. 0. 0. 0. 0. 0. 0. 0. 0. 0. 0. 0. 0. 0.\n",
      " 0. 0. 1. 0. 0. 0. 0.\n",
      "0. 0. 0. 0. 0. 0. 1. 0. 0. 0. 0. 0. 0. 0. 0. 0. 0. 0. 0. 0. 0. 0. 0. 1.\n",
      " 0. 1. 0. 0. 1. 0. 0.\n",
      "0. 0. 0. 0. 0. 0. 0. 1. 0. 0. 0. 0. 0. 0. 0. 0. 0. 0. 0. 0. 1. 0. 1. 0.\n",
      " 0. 0. 0. 1. 0. 0. 0.\n",
      "0. 0. 0. 0. 0. 0. 0. 0. 1. 0. 0. 0. 0. 0. 0. 0. 0. 0. 0. 1. 0. 1. 0. 0.\n",
      " 1. 0. 0. 0. 0. 0. 0.\n",
      "0. 0. 0. 0. 0. 0. 0. 0. 0. 3. 0. 0. 0. 0. 0. 0. 0. 0. 0. 0. 0. 0. 0. 0.\n",
      " 0. 0. 0. 0. 1. 0. 1.\n",
      "0. 0. 0. 0. 0. 0. 0. 0. 0. 0. 3. 0. 0. 0. 0. 0. 0. 0. 0. 0. 0. 0. 0. 0.\n",
      " 1. 0. 0. 1. 0. 0. 0.\n",
      "0. 0. 0. 0. 0. 0. 0. 0. 0. 0. 0. 3. 0. 0. 0. 0. 0. 0. 0. 0. 0. 1. 1. 1.\n",
      " 0. 0. 1. 0. 0. 0. 0.\n",
      "0. 0. 0. 0. 0. 0. 0. 0. 0. 0. 0. 0. 4. 0. 0. 0. 0. 0. 0. 2. 0. 0. 0. 0.\n",
      " 0. 2. 0. 0. 0. 0. 0.\n",
      "0. 0. 0. 0. 0. 0. 0. 0. 0. 0. 0. 0. 0. 6. 0. 0. 0. 0. 0. 0. 0. 0. 1. 0.\n",
      " 1. 0. 0. 0. 0. 1. 0.\n",
      " 0.  0.  0.  0.  0.  0.  0.  0.  0.  0.  0.  0.  0.  0.  6.  0.  0.  0.\n",
      "  0. -0.  2.  0.  0.  0.  0.  0.  0.  0.  0.  0.  0.\n",
      "0. 0. 0. 0. 0. 0. 0. 0. 0. 0. 0. 0. 0. 0. 0. 9. 0. 0. 0. 0. 1. 0. 0. 0.\n",
      " 0. 0. 0. 0. 1. 0. 0.\n",
      " 0.  0.  0.  0.  0.  0.  0.  0.  0.  0.  0.  0.  0.  0.  0.  0. 11.  0.\n",
      "  0.  1.  1.  0.  0.  2.  0.  0.  0.  0.  0.  3.  0.\n",
      " 0.  0.  0.  0.  0.  0.  0.  0.  0.  0.  0.  0.  0.  0.  0.  0.  0. 12.\n",
      "  0.  0.  0. -0.  0.  0.  0.  0.  2.  0.  0.  0.  0.\n",
      " 0.  0.  0.  0.  0.  0.  0.  0.  0.  0.  0.  0.  0.  0.  0.  0.  0.  0.\n",
      " 15.  0. -0.  3.  0.  0.  0.  1.  0.  2.  0.  0.  0.\n"
     ]
    }
   ],
   "source": [
    "print(*[str(row)[1:-1] for row in A], sep='\\n')"
   ]
  },
  {
   "cell_type": "code",
   "execution_count": null,
   "metadata": {},
   "outputs": [],
   "source": []
  }
 ],
 "metadata": {
  "kernelspec": {
   "display_name": "Python 3 (ipykernel)",
   "language": "python",
   "name": "python3"
  },
  "language_info": {
   "codemirror_mode": {
    "name": "ipython",
    "version": 3
   },
   "file_extension": ".py",
   "mimetype": "text/x-python",
   "name": "python",
   "nbconvert_exporter": "python",
   "pygments_lexer": "ipython3",
   "version": "3.9.13"
  }
 },
 "nbformat": 4,
 "nbformat_minor": 4
}
