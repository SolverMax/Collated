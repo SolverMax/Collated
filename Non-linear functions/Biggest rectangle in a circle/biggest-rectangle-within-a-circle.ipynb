{
 "cells": [
  {
   "cell_type": "markdown",
   "metadata": {},
   "source": [
    "# Biggest Rectangle within a Circle"
   ]
  },
  {
   "cell_type": "markdown",
   "metadata": {},
   "source": [
    "<img src=\"../../reports/imgs/rect-circle.png\" alt=\"drawing\" width=\"800\"/>"
   ]
  },
  {
   "cell_type": "markdown",
   "metadata": {},
   "source": [
    "# Setup"
   ]
  },
  {
   "cell_type": "code",
   "execution_count": 1,
   "metadata": {
    "ExecuteTime": {
     "end_time": "2022-05-19T07:26:06.699723Z",
     "start_time": "2022-05-19T07:26:06.238129Z"
    }
   },
   "outputs": [],
   "source": [
    "import pyomo.environ as pyo"
   ]
  },
  {
   "cell_type": "markdown",
   "metadata": {},
   "source": [
    "# Solution"
   ]
  },
  {
   "cell_type": "markdown",
   "metadata": {},
   "source": [
    "## Model\n",
    "\n",
    "<font color=gray size=2.5><b>lets define a concrete model</b></font>"
   ]
  },
  {
   "cell_type": "code",
   "execution_count": 2,
   "metadata": {
    "ExecuteTime": {
     "end_time": "2022-05-19T07:26:06.708341Z",
     "start_time": "2022-05-19T07:26:06.703728Z"
    }
   },
   "outputs": [],
   "source": [
    "model = pyo.ConcreteModel()"
   ]
  },
  {
   "cell_type": "markdown",
   "metadata": {},
   "source": [
    "## Parameters\n",
    "\n",
    "<font color=gray size=2.5><b>these are the known/given values in the problem statement</b></font>"
   ]
  },
  {
   "cell_type": "markdown",
   "metadata": {},
   "source": [
    "the `R` (radius) of the circle is a parameter, assume that its given to be 10"
   ]
  },
  {
   "cell_type": "code",
   "execution_count": 3,
   "metadata": {
    "ExecuteTime": {
     "end_time": "2022-05-19T07:26:06.720220Z",
     "start_time": "2022-05-19T07:26:06.714171Z"
    }
   },
   "outputs": [],
   "source": [
    "model.R = pyo.Param(initialize=10)"
   ]
  },
  {
   "cell_type": "markdown",
   "metadata": {},
   "source": [
    "## Variables\n",
    "\n",
    "<font color=gray size=2.5><b>the unknowns - these are what the model needs to determine</b></font>"
   ]
  },
  {
   "cell_type": "markdown",
   "metadata": {},
   "source": [
    "`x` and `y` are the variables that we need to find out.  \n",
    "\n",
    "If the centre of the circle has the coordinates `(0, 0)`, then:\n",
    "- the length of the rectangle will be `2x`\n",
    "- the height of the rectangle will be `2y`\n",
    "- and therefore, the area of the rectangle will be `4xy`\n",
    "\n",
    "also, the values of `x` and `y` cant exceed the radius `R` of the circle"
   ]
  },
  {
   "cell_type": "code",
   "execution_count": 4,
   "metadata": {
    "ExecuteTime": {
     "end_time": "2022-05-19T07:26:06.731965Z",
     "start_time": "2022-05-19T07:26:06.723787Z"
    }
   },
   "outputs": [],
   "source": [
    "model.x = pyo.Var(bounds=(0, model.R), initialize=model.R)\n",
    "model.y = pyo.Var(bounds=(0, model.R), initialize=model.R)"
   ]
  },
  {
   "cell_type": "markdown",
   "metadata": {},
   "source": [
    "## Constraints\n",
    "\n",
    "<font color=gray size=2.5><b>lets define the constraints</b></font>"
   ]
  },
  {
   "cell_type": "markdown",
   "metadata": {},
   "source": [
    "in this problem statement, we have the following constraints:\n",
    " > $x^2 + y^2 = R^2$"
   ]
  },
  {
   "cell_type": "code",
   "execution_count": 5,
   "metadata": {
    "ExecuteTime": {
     "end_time": "2022-05-19T07:26:06.741418Z",
     "start_time": "2022-05-19T07:26:06.735039Z"
    }
   },
   "outputs": [],
   "source": [
    "model.c1 = pyo.Constraint(expr=model.x**2+model.y**2 == model.R**2)"
   ]
  },
  {
   "cell_type": "markdown",
   "metadata": {},
   "source": [
    "## Objective Function\n",
    "\n",
    "<font color=gray size=2.5><b>the objective function - we need to maximixe this function as per the current question</b></font>"
   ]
  },
  {
   "cell_type": "markdown",
   "metadata": {},
   "source": [
    "the objective is to find the biggest possible area of a rectangle\n",
    "> (max) $ 4*x*y $"
   ]
  },
  {
   "cell_type": "code",
   "execution_count": 6,
   "metadata": {
    "ExecuteTime": {
     "end_time": "2022-05-19T07:26:06.754964Z",
     "start_time": "2022-05-19T07:26:06.746512Z"
    }
   },
   "outputs": [],
   "source": [
    "model.objective = pyo.Objective(expr=4*model.x*model.y, sense=pyo.maximize)"
   ]
  },
  {
   "cell_type": "markdown",
   "metadata": {},
   "source": [
    "# Solve"
   ]
  },
  {
   "cell_type": "code",
   "execution_count": 7,
   "metadata": {
    "ExecuteTime": {
     "end_time": "2022-05-19T07:26:06.945183Z",
     "start_time": "2022-05-19T07:26:06.757946Z"
    }
   },
   "outputs": [],
   "source": [
    "optimizer = pyo.SolverFactory('ipopt')\n",
    "results = optimizer.solve(model)"
   ]
  },
  {
   "cell_type": "code",
   "execution_count": 8,
   "metadata": {
    "ExecuteTime": {
     "end_time": "2022-05-19T07:26:06.956635Z",
     "start_time": "2022-05-19T07:26:06.949554Z"
    }
   },
   "outputs": [
    {
     "name": "stdout",
     "output_type": "stream",
     "text": [
      "x = 7.071\n",
      "y = 7.071\n",
      "Area = 200.0\n"
     ]
    }
   ],
   "source": [
    "print('x =', round(pyo.value(model.x), 3))\n",
    "print('y =', round(pyo.value(model.y), 3))\n",
    "print('Area =', round(pyo.value(model.objective), 3))"
   ]
  },
  {
   "cell_type": "code",
   "execution_count": 9,
   "metadata": {
    "ExecuteTime": {
     "end_time": "2022-05-19T07:26:06.970208Z",
     "start_time": "2022-05-19T07:26:06.962942Z"
    }
   },
   "outputs": [
    {
     "name": "stdout",
     "output_type": "stream",
     "text": [
      "\n",
      "Problem: \n",
      "- Lower bound: -inf\n",
      "  Upper bound: inf\n",
      "  Number of objectives: 1\n",
      "  Number of constraints: 1\n",
      "  Number of variables: 2\n",
      "  Sense: unknown\n",
      "Solver: \n",
      "- Status: ok\n",
      "  Message: Ipopt 3.14.6\\x3a Optimal Solution Found\n",
      "  Termination condition: optimal\n",
      "  Id: 0\n",
      "  Error rc: 0\n",
      "  Time: 0.04579472541809082\n",
      "Solution: \n",
      "- number of solutions: 0\n",
      "  number of solutions displayed: 0\n",
      "\n"
     ]
    }
   ],
   "source": [
    "print(results)"
   ]
  },
  {
   "cell_type": "markdown",
   "metadata": {},
   "source": [
    "# Experimentations with the results"
   ]
  },
  {
   "cell_type": "markdown",
   "metadata": {},
   "source": [
    "###### fixing one of the variables"
   ]
  },
  {
   "cell_type": "code",
   "execution_count": 10,
   "metadata": {
    "ExecuteTime": {
     "end_time": "2022-05-19T07:26:07.035028Z",
     "start_time": "2022-05-19T07:26:06.974307Z"
    }
   },
   "outputs": [],
   "source": [
    "model.x.fix(1)\n",
    "results = optimizer.solve(model)"
   ]
  },
  {
   "cell_type": "code",
   "execution_count": 11,
   "metadata": {
    "ExecuteTime": {
     "end_time": "2022-05-19T07:26:07.049091Z",
     "start_time": "2022-05-19T07:26:07.041157Z"
    }
   },
   "outputs": [
    {
     "name": "stdout",
     "output_type": "stream",
     "text": [
      "x =  1\n",
      "y =  9.95\n",
      "Area =  39.799\n"
     ]
    }
   ],
   "source": [
    "print('x = ', round(pyo.value(model.x), 3))\n",
    "print('y = ', round(pyo.value(model.y), 3))\n",
    "print('Area = ', round(pyo.value(model.objective), 3))"
   ]
  },
  {
   "cell_type": "markdown",
   "metadata": {},
   "source": [
    "###### unfixing variables"
   ]
  },
  {
   "cell_type": "code",
   "execution_count": 12,
   "metadata": {
    "ExecuteTime": {
     "end_time": "2022-05-19T07:26:07.119285Z",
     "start_time": "2022-05-19T07:26:07.054224Z"
    }
   },
   "outputs": [],
   "source": [
    "model.x.unfix()\n",
    "model.y.fix(1)\n",
    "results = optimizer.solve(model)"
   ]
  },
  {
   "cell_type": "code",
   "execution_count": 13,
   "metadata": {
    "ExecuteTime": {
     "end_time": "2022-05-19T07:26:07.136252Z",
     "start_time": "2022-05-19T07:26:07.124931Z"
    }
   },
   "outputs": [
    {
     "name": "stdout",
     "output_type": "stream",
     "text": [
      "x =  9.95\n",
      "y =  1\n",
      "Area =  39.799\n"
     ]
    }
   ],
   "source": [
    "print('x = ', round(pyo.value(model.x), 3))\n",
    "print('y = ', round(pyo.value(model.y), 3))\n",
    "print('Area = ', round(pyo.value(model.objective), 3))"
   ]
  },
  {
   "cell_type": "code",
   "execution_count": 14,
   "metadata": {
    "ExecuteTime": {
     "end_time": "2022-05-19T07:26:07.234087Z",
     "start_time": "2022-05-19T07:26:07.142211Z"
    }
   },
   "outputs": [],
   "source": [
    "model.x.unfix()\n",
    "model.y.unfix()\n",
    "results = optimizer.solve(model)"
   ]
  },
  {
   "cell_type": "code",
   "execution_count": null,
   "metadata": {},
   "outputs": [],
   "source": []
  }
 ],
 "metadata": {
  "kernelspec": {
   "display_name": "Python [conda env:operations-research-notebooks]",
   "language": "python",
   "name": "conda-env-operations-research-notebooks-py"
  },
  "language_info": {
   "codemirror_mode": {
    "name": "ipython",
    "version": 3
   },
   "file_extension": ".py",
   "mimetype": "text/x-python",
   "name": "python",
   "nbconvert_exporter": "python",
   "pygments_lexer": "ipython3",
   "version": "3.10.4"
  },
  "toc": {
   "base_numbering": 1,
   "nav_menu": {},
   "number_sections": true,
   "sideBar": true,
   "skip_h1_title": false,
   "title_cell": "Table of Contents",
   "title_sidebar": "Contents",
   "toc_cell": false,
   "toc_position": {},
   "toc_section_display": true,
   "toc_window_display": false
  }
 },
 "nbformat": 4,
 "nbformat_minor": 4
}