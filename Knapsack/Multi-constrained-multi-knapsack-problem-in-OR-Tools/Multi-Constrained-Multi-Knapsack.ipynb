{
 "cells": [
  {
   "cell_type": "markdown",
   "metadata": {},
   "source": [
    "# Multi-constrained, multi-knapsack problem\n",
    "\n",
    "Source: https://github.com/benmccloskey/Linear_programming/blob/main/Multi_Constrained_Multi_Knapsack.ipynb\n",
    "\n",
    "Parts of this code were adapted from: https://developers.google.com/optimization/bin/multiple_knapsack"
   ]
  },
  {
   "cell_type": "code",
   "execution_count": 1,
   "metadata": {},
   "outputs": [],
   "source": [
    "import ortools\n",
    "from ortools.linear_solver import pywraplp"
   ]
  },
  {
   "cell_type": "markdown",
   "metadata": {},
   "source": [
    "# Solver"
   ]
  },
  {
   "cell_type": "code",
   "execution_count": 2,
   "metadata": {},
   "outputs": [],
   "source": [
    "solver = pywraplp.Solver.CreateSolver('SCIP')"
   ]
  },
  {
   "cell_type": "markdown",
   "metadata": {},
   "source": [
    "# Data"
   ]
  },
  {
   "cell_type": "code",
   "execution_count": 3,
   "metadata": {},
   "outputs": [
    {
     "name": "stdout",
     "output_type": "stream",
     "text": [
      "Values:  48 30 42 36 22 43 18 24 36 29 30 25 19 41 34 32 27 24 18\n",
      "Weights: 10 30 12 22 12 20 9 9 18 20 25 18 7 16 24 21 21 32 9\n",
      "Volume: 15 20 18 20 5 12 7 7 24 30 25 20 5 25 19 24 19 14 30\n",
      "Radiation Levels: 3 1 2 3 1 2 0 2 2 1 2 3 4 3 2 3 1 1 3\n",
      "Number of Items: 19\n",
      "Number of Knapsacks: 5\n",
      "Knapsack Capacities: 50 Pounds, 50 cubic inches, 5 Levels of Radiation\n"
     ]
    }
   ],
   "source": [
    "data = {}\n",
    "values = [48, 30, 42, 36, 22, 43, 18, 24, 36, 29, 30, 25, 19, 41, 34, 32, 27, 24, 18]\n",
    "weights = [10, 30, 12, 22, 12, 20, 9, 9, 18, 20, 25, 18, 7, 16, 24, 21, 21, 32, 9]\n",
    "volume = [15, 20, 18, 20, 5, 12, 7, 7, 24, 30, 25, 20, 5, 25, 19, 24, 19, 14, 30]\n",
    "rad = [3, 1, 2, 3, 1, 2, 0, 2, 2, 1, 2, 3, 4, 3, 2, 3, 1, 1, 3]\n",
    "\n",
    "assert len(values) == len(weights) == len(volume) == len(rad)\n",
    "\n",
    "data['values'] = values\n",
    "data['weights'] = weights\n",
    "data['volume'] = volume\n",
    "data['rad'] = rad\n",
    "data['items'] = list(range(len(weights)))\n",
    "data['num_items'] = len(values)\n",
    "number_bags = 5 #All have the same capacity of 50 pounds\n",
    "data['bag_capacities'] = [50, 50, 50, 50, 50] #pounds\n",
    "data['bag_volume'] = [50,50,50,50,50] #while this equals bag_capacities, I made it its own variable in case\n",
    "data['rad_capacities'] = [5,5,5,5,5]\n",
    "#I wanted to change the values at a later data\n",
    "data['bags'] = list(range(number_bags))\n",
    "\n",
    "assert len(data['bag_capacities']) == number_bags\n",
    "assert len(data['bag_capacities']) == len(data['bag_volume']) == len(data['rad_capacities'])\n",
    "print(\"Values: \",*data['values'])\n",
    "print('Weights:',*data['weights'])\n",
    "print('Volume:',*data['volume'])\n",
    "print('Radiation Levels:', *data['rad'])\n",
    "print(\"Number of Items:\", data['num_items'])\n",
    "print(\"Number of Knapsacks:\" , number_bags)\n",
    "print('Knapsack Capacities: 50 Pounds, 50 cubic inches, 5 Levels of Radiation')"
   ]
  },
  {
   "cell_type": "markdown",
   "metadata": {},
   "source": [
    "# Variables"
   ]
  },
  {
   "cell_type": "code",
   "execution_count": 4,
   "metadata": {},
   "outputs": [],
   "source": [
    "#x[i,j] for item i in knapsack j\n",
    "x = {}\n",
    "for i in data['items']:\n",
    "    for j in data['bags']:\n",
    "        x[(i,j)] = solver.IntVar(0,1,'x_%i_%i' % (i, j))"
   ]
  },
  {
   "cell_type": "markdown",
   "metadata": {},
   "source": [
    "# Constraints"
   ]
  },
  {
   "cell_type": "code",
   "execution_count": 5,
   "metadata": {},
   "outputs": [],
   "source": [
    "#Constraint for an item being placed in 1 knapsack\n",
    "for i in data['items']:\n",
    "    solver.Add(sum(x[i,j] for j in data['bags'])<=1)\n",
    "\n",
    "#Knapsack Capacity Constraint\n",
    "for j in data['bags']:\n",
    "    solver.Add(sum(x[(i,j)]*data['weights'][i] for i in data['items']) <= data['bag_capacities'][j])\n",
    "\n",
    "#Volume Constraint\n",
    "for j in data['bags']:\n",
    "    solver.Add(sum(x[(i,j)]*data['volume'][i] for i in data['items']) <= data['bag_volume'][j])\n",
    "\n",
    "#Radiation Constraint\n",
    "for j in data['bags']:\n",
    "    solver.Add(sum(x[(i,j)]*data['rad'][i] for i in data['items']) <= data['rad_capacities'][j])"
   ]
  },
  {
   "cell_type": "markdown",
   "metadata": {},
   "source": [
    "# Assumptions in regards to constraint\n",
    "- I am assuming that one person is carrying 1 knapsack and therefore I added the radiation constraint to each of the bags. If a person could carry more than one bag this was change the radiation constraint on the knapsacks. \n",
    "- Assuming that an item can only be on 1 of the 5 bags."
   ]
  },
  {
   "cell_type": "markdown",
   "metadata": {},
   "source": [
    "# Objective Function"
   ]
  },
  {
   "cell_type": "code",
   "execution_count": 6,
   "metadata": {},
   "outputs": [],
   "source": [
    "objective = solver.Objective()\n",
    "for i in data['items']:\n",
    "    for j in data['bags']:\n",
    "        objective.SetCoefficient(x[(i,j)], data['values'][i])\n",
    "objective.SetMaximization()"
   ]
  },
  {
   "cell_type": "markdown",
   "metadata": {},
   "source": [
    "# Solve!"
   ]
  },
  {
   "cell_type": "code",
   "execution_count": 7,
   "metadata": {},
   "outputs": [
    {
     "name": "stdout",
     "output_type": "stream",
     "text": [
      "Total Packed Value: 433.00000000000006\n",
      "\n",
      " Bag 1 \n",
      "\n",
      "Item: 5 value 43 Weight 20 Volume 12 Radiation 2\n",
      "Item: 7 value 24 Weight 9 Volume 7 Radiation 2\n",
      "Item: 9 value 29 Weight 20 Volume 30 Radiation 1\n",
      "Packed Knapsack Value:  96\n",
      "Packed Knapsack Weight:  49\n",
      "Packed Knapsack Volume:  49\n",
      "Pack Knapsack Radiation:  5\n",
      "\n",
      " Bag 2 \n",
      "\n",
      "Item: 3 value 36 Weight 22 Volume 20 Radiation 3\n",
      "Item: 14 value 34 Weight 24 Volume 19 Radiation 2\n",
      "Packed Knapsack Value:  70\n",
      "Packed Knapsack Weight:  46\n",
      "Packed Knapsack Volume:  39\n",
      "Pack Knapsack Radiation:  5\n",
      "\n",
      " Bag 3 \n",
      "\n",
      "Item: 1 value 30 Weight 30 Volume 20 Radiation 1\n",
      "Item: 13 value 41 Weight 16 Volume 25 Radiation 3\n",
      "Packed Knapsack Value:  71\n",
      "Packed Knapsack Weight:  46\n",
      "Packed Knapsack Volume:  45\n",
      "Pack Knapsack Radiation:  4\n",
      "\n",
      " Bag 4 \n",
      "\n",
      "Item: 2 value 42 Weight 12 Volume 18 Radiation 2\n",
      "Item: 4 value 22 Weight 12 Volume 5 Radiation 1\n",
      "Item: 8 value 36 Weight 18 Volume 24 Radiation 2\n",
      "Packed Knapsack Value:  100\n",
      "Packed Knapsack Weight:  42\n",
      "Packed Knapsack Volume:  47\n",
      "Pack Knapsack Radiation:  5\n",
      "\n",
      " Bag 5 \n",
      "\n",
      "Item: 0 value 48 Weight 10 Volume 15 Radiation 3\n",
      "Item: 6 value 18 Weight 9 Volume 7 Radiation 0\n",
      "Item: 10 value 30 Weight 25 Volume 25 Radiation 2\n",
      "Packed Knapsack Value:  96\n",
      "Packed Knapsack Weight:  44\n",
      "Packed Knapsack Volume:  47\n",
      "Pack Knapsack Radiation:  5\n"
     ]
    }
   ],
   "source": [
    "solv = solver.Solve()\n",
    "if solv == pywraplp.Solver.OPTIMAL:\n",
    "    print('Total Packed Value:', objective.Value())\n",
    "    total_weight = 0\n",
    "    for j in data['bags']:\n",
    "        bag_value = 0\n",
    "        bag_weight = 0\n",
    "        bag_volume= 0\n",
    "        bag_rad = 0\n",
    "        print('\\n','Bag', j+1 , '\\n')\n",
    "        for i in data['items']:\n",
    "            if x[i,j].solution_value()>0:\n",
    "                print('Item:', i , \n",
    "                      'value',data['values'][i],\n",
    "                      'Weight', data['weights'][i], \n",
    "                      'Volume',data['volume'][i],\n",
    "                      'Radiation', data['rad'][i]\n",
    "                     )\n",
    "                bag_value += data['values'][i]\n",
    "                bag_weight += data['weights'][i]\n",
    "                bag_volume += data['volume'][i]\n",
    "                bag_rad += data['rad'][i]\n",
    "        print('Packed Knapsack Value: ', bag_value)\n",
    "        print('Packed Knapsack Weight: ', bag_weight)\n",
    "        print('Packed Knapsack Volume: ', bag_volume)\n",
    "        print('Pack Knapsack Radiation: ', bag_rad)\n",
    "else:\n",
    "    print(\"There is no optimal solution\")"
   ]
  }
 ],
 "metadata": {
  "kernelspec": {
   "display_name": "Python 3 (ipykernel)",
   "language": "python",
   "name": "python3"
  },
  "language_info": {
   "codemirror_mode": {
    "name": "ipython",
    "version": 3
   },
   "file_extension": ".py",
   "mimetype": "text/x-python",
   "name": "python",
   "nbconvert_exporter": "python",
   "pygments_lexer": "ipython3",
   "version": "3.9.7"
  }
 },
 "nbformat": 4,
 "nbformat_minor": 4
}
