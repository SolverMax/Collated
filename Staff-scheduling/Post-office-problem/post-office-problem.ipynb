{
 "cells": [
  {
   "cell_type": "markdown",
   "id": "cf890a59-ef68-4876-a400-d47cab7b5b88",
   "metadata": {},
   "source": [
    "# Post office problem in OR-tools CP-SAT Solver\n",
    "Source: http://www.hakank.org/or_tools/post_office_problem2_sat.py\n",
    "\n",
    "From Winston 'Operations Research: Applications and Algorithms':\n",
    "\n",
    "A post office requires a different number of full-time employees working on different days of the week [summarized below]. Union rules state that each full-time employee must work for 5 consecutive days and then receive two days off. For example, an employee who works on Monday to Friday must be off on Saturday and Sunday. The post office wants to meet its daily requirements using only full-time employees. Minimize the number of employees that must be hired.\n",
    "\n",
    "To summarize the important information about the problem:\n",
    "- Every full-time worker works for 5 consecutive days and takes 2 days off\n",
    "- Day 1: 17 workers needed (Monday)\n",
    "- Day 2: 13 workers needed\n",
    "- Day 3: 15 workers needed\n",
    "- Day 4: 19 workers needed\n",
    "- Day 5: 14 workers needed\n",
    "- Day 6: 16 workers needed\n",
    "- Day 7: 11 workers needed (Sunday)\n",
    "- The post office needs to minimize the number of employees it needs to hire to meet its demand.\n",
    "  \n",
    "Licensed under the Apache License, Version 2.0 (the \"License\"); you may not use this file except in compliance with the License. You may obtain a copy of the License at http://www.apache.org/licenses/LICENSE-2.0\n",
    "Unless required by applicable law or agreed to in writing, software distributed under the License is distributed on an \"AS IS\" BASIS, WITHOUT WARRANTIES OR CONDITIONS OF ANY KIND, either express or implied. See the License for the specific language governing permissions and limitations under the License."
   ]
  },
  {
   "cell_type": "markdown",
   "id": "83ede057-8228-4c50-adae-739df722dcab",
   "metadata": {},
   "source": [
    "## Solver Max notes\n",
    "\n",
    "The original model appears to be wrong. That is, it had a constraint expressed in terms of:\n",
    "\n",
    "j != (i + 5) % n and j != (i + 6) % n\n",
    "\n",
    "That constraint is forward-looking by 5 and 6 days. For example, it means that Monday excludes workers who start on Saturday and Sunday. However, it should exclude workers who start on the next two days, that is:\n",
    "\n",
    "j != (i + 1) % n and j != (i + 2) % n\n",
    "\n",
    "Given the revised constraint, the optimal solution has a total 21 people working on Friday, though only 14 are needed. To reduce this gap, we introduced another component to the objective function: the maximum total number of workers on any day. This also requires a variable to represent that maximum, and a constraint that the number of workers on a day is <= max_workers.\n",
    "\n",
    "With weights of 1.0 and 0.1 for the objectives, the solution has the same cost, but a better distrubution of workers (max is 19 rather than 21).\n",
    "\n",
    "With weights of 0.0 and 1.0 for the objectives, we get a slightly higher cost (15,500 rather than 15,300), though the number of workers remains at 23.\n",
    "\n",
    "The output has been extended, to provide additional information about the solution."
   ]
  },
  {
   "cell_type": "code",
   "execution_count": 1,
   "id": "34641b2c-9488-4bbf-941f-e0cc21dadd6a",
   "metadata": {},
   "outputs": [],
   "source": [
    "from __future__ import print_function\n",
    "from ortools.sat.python import cp_model as cp\n",
    "import math, sys\n",
    "from cp_sat_utils import scalar_product"
   ]
  },
  {
   "cell_type": "code",
   "execution_count": 2,
   "id": "66a00178-6bde-43cc-96db-dd047955bd06",
   "metadata": {},
   "outputs": [],
   "source": [
    "def main():\n",
    "    model = cp.CpModel()\n",
    "   \n",
    "    n = 7   # days 0..6, monday 0\n",
    "    days = list(range(n))\n",
    "    day_names = ['Monday', 'Tuesday', 'Wednesday', 'Thursday', 'Friday', 'Saturday', 'Sunday']\n",
    "    need = [17, 13, 15, 19, 14, 16, 11]\n",
    "    cost = [500, 600, 800, 800, 800, 800, 700]   # Total cost for the 5 day schedule. Base cost per day is 100. Working saturday is 100 extra. Working sunday is 200 extra.\n",
    "    x = [model.NewIntVar(0, 100, 'x[%i]' % i) for i in days]   # No. of workers starting at day i\n",
    "    total_cost = model.NewIntVar(0, 20000, 'total_cost')\n",
    "    num_workers = model.NewIntVar(0, 100, 'num_workers')\n",
    "    max_workers = model.NewIntVar(0, 100, 'max_workers')\n",
    "\n",
    "    scalar_product(model, x, cost, total_cost)\n",
    "    model.Add(num_workers == sum(x))\n",
    "\n",
    "    for i in days:\n",
    "        model.Add(sum([x[j] for j in days if j != (i + 1) % n and j != (i + 2) % n]) >= need[i])\n",
    "        model.Add(sum([x[j] for j in days if j != (i + 1) % n and j != (i + 2) % n]) <= max_workers)\n",
    "\n",
    "    model.Minimize(total_cost * 1.0 + max_workers * 0.1)\n",
    "\n",
    "    solver = cp.CpSolver()\n",
    "    status = solver.Solve(model)\n",
    "\n",
    "    if status == cp.OPTIMAL:\n",
    "        print(f'Workers:    {solver.Value(num_workers):8,}')\n",
    "        print(f'Total cost: {solver.Value(total_cost):8,}')\n",
    "        print()\n",
    "        #print('x:', [solver.Value(x[i]) for i in days])\n",
    "        print('Day         Start  Total   Need')\n",
    "        print('-------------------------------')\n",
    "        for i in days:\n",
    "            print(f'{day_names[i]:10} {solver.Value(x[i]):6,} {sum([solver.Value(x[j]) for j in days if j != (i + 1) % n and j != (i + 2) % n]):6,} {solver.Value(need[i]):6,} ')\n",
    "        \n",
    "    print()\n",
    "    print('Solver statistics:')\n",
    "    print('---------------------------')\n",
    "    print(f'Number of conflicts: {solver.NumConflicts():6,}')\n",
    "    print(f'Number of branches:  {solver.NumBranches():6,}')\n",
    "    print(f'\\nWall time: {solver.WallTime():6,.3f} seconds')"
   ]
  },
  {
   "cell_type": "code",
   "execution_count": 3,
   "id": "ae16c505-bc11-4335-9948-b7d85531b347",
   "metadata": {},
   "outputs": [
    {
     "name": "stdout",
     "output_type": "stream",
     "text": [
      "Workers:          23\n",
      "Total cost:   15,300\n",
      "\n",
      "Day         Start  Total   Need\n",
      "-------------------------------\n",
      "Monday          6     17     17 \n",
      "Tuesday         6     17     13 \n",
      "Wednesday       0     16     15 \n",
      "Thursday        6     19     19 \n",
      "Friday          1     19     14 \n",
      "Saturday        3     16     16 \n",
      "Sunday          1     11     11 \n",
      "\n",
      "Solver statistics:\n",
      "---------------------------\n",
      "Number of conflicts:    247\n",
      "Number of branches:     261\n",
      "\n",
      "Wall time:  0.026 seconds\n"
     ]
    }
   ],
   "source": [
    "if __name__ == '__main__':\n",
    "    main()"
   ]
  },
  {
   "cell_type": "code",
   "execution_count": null,
   "id": "fe1b4eaf-12bc-4194-9155-c37b7895cac2",
   "metadata": {},
   "outputs": [],
   "source": []
  }
 ],
 "metadata": {
  "kernelspec": {
   "display_name": "Python 3 (ipykernel)",
   "language": "python",
   "name": "python3"
  },
  "language_info": {
   "codemirror_mode": {
    "name": "ipython",
    "version": 3
   },
   "file_extension": ".py",
   "mimetype": "text/x-python",
   "name": "python",
   "nbconvert_exporter": "python",
   "pygments_lexer": "ipython3",
   "version": "3.9.7"
  }
 },
 "nbformat": 4,
 "nbformat_minor": 5
}
