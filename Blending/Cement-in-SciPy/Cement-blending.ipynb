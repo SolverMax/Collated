{
 "cells": [
  {
   "cell_type": "markdown",
   "id": "799c71f7-b1be-4c50-bfa7-a8c739a45ea0",
   "metadata": {},
   "source": [
    "# Blending optimization tutorial with linear programming in Python\n",
    "Created on Fri Aug 19 02:20:07 2022, @author: ffaraj\n",
    "\n",
    "Source: https://github.com/13ff6/CementOptFF/blob/main/CementBlendOpt_FF.py\n",
    "\n",
    "Also see article: https://towardsdatascience.com/blending-optimization-tutorial-with-linear-programming-in-python-74bcc443e4e5"
   ]
  },
  {
   "cell_type": "code",
   "execution_count": 1,
   "id": "51f85c8e-5d4b-4e69-bd21-b43c08f8a883",
   "metadata": {},
   "outputs": [
    {
     "name": "stdout",
     "output_type": "stream",
     "text": [
      "     fun: 22.663911266587462\n",
      "     jac: array([ 20.,   6., 230., 160.])\n",
      " message: 'Optimization terminated successfully'\n",
      "    nfev: 10\n",
      "     nit: 6\n",
      "    njev: 2\n",
      "  status: 0\n",
      " success: True\n",
      "       x: array([0.88089899, 0.09913362, 0.01794782, 0.00201957])\n"
     ]
    }
   ],
   "source": [
    "\"\"\"\n",
    "Created on Fri Aug 19 02:20:07 2022\n",
    "@author: ffaraj\n",
    "\"\"\"\n",
    "\n",
    "import pandas as pd\n",
    "from scipy.optimize import minimize\n",
    "\n",
    "C = pd.Series([20,6, 230, 160]) #price of each material in order\n",
    "\n",
    "def cost_fun(x):\n",
    "    return (sum(C*x)) #minimize sum of material costs\n",
    "\n",
    "cons = (\n",
    "        {'type': 'eq', 'fun': lambda x: x[0]+x[1]+x[2]+x[3]-1 },\n",
    "        {'type': 'ineq', 'fun': lambda x:  -1*((11.46*x[0] +56.30*x[1] + 1.64*x[2] + 5.36*x[3]) - 3*(1.62*x[0] +10.18*x[1] +39.06*x[2] + 2.99*x[3]) - 3*(0.96*x[0] + 4.76*x[1] +33.94*x[2] +83.61*x[3] )) },\n",
    "        {'type': 'ineq', 'fun': lambda x: -1* ( (-1*(11.46*x[0] +56.30*x[1] + 1.64*x[2] + 5.36*x[3])) +2.8*(1.62*x[0] +10.18*x[1] +39.06*x[2] + 2.99*x[3]) +2.8*(0.96*x[0] + 4.76*x[1] +33.94*x[2] +83.61*x[3]))},\n",
    "        {'type': 'ineq', 'fun': lambda x: -1* ((1.62*x[0] +10.18*x[1] +39.06*x[2] + 2.99*x[3]) - 2.5*(0.96*x[0] + 4.76*x[1] +33.94*x[2] +83.61*x[3] ) )},\n",
    "        {'type': 'ineq', 'fun': lambda x: 1* ((1.62*x[0] +10.18*x[1] +39.06*x[2] + 2.99*x[3]) - 1.5*(0.96*x[0] + 4.76*x[1] +33.94*x[2] +83.61*x[3] ) )},\n",
    "        {'type': 'ineq', 'fun': lambda x: -1* (-2.8*(11.46*x[0] +56.30*x[1] + 1.64*x[2] + 5.36*x[3]) - 1.1*(1.62*x[0] +10.18*x[1] +39.06*x[2] + 2.99*x[3]) -0.7*(0.96*x[0] + 4.76*x[1] +33.94*x[2] +83.61*x[3])+1.05*(48.36*x[0] +12.70*x[1] +12.20*x[2] + 1.84*x[3]) )},        \n",
    "        {'type': 'ineq', 'fun': lambda x: -1* (2.8*(11.46*x[0] +56.30*x[1] + 1.64*x[2] + 5.36*x[3]) + 1.1*(1.62*x[0] +10.18*x[1] +39.06*x[2] + 2.99*x[3]) +0.7*(0.96*x[0] + 4.76*x[1] +33.94*x[2] +83.61*x[3])-1.11*(48.36*x[0] +12.70*x[1] +12.20*x[2] + 1.84*x[3]) )},\n",
    "        {'type': 'ineq', 'fun': lambda x: -1* (-7.6*(11.46*x[0] +56.30*x[1] + 1.64*x[2] + 5.36*x[3]) - 6.72*(1.62*x[0] +10.18*x[1] +39.06*x[2] + 2.99*x[3]) -1.43*(0.96*x[0] + 4.76*x[1] +33.94*x[2] +83.61*x[3]) +4.07*(48.36*x[0] +12.70*x[1] +12.20*x[2] + 1.84*x[3]) - 2.85*(0.02*x[0] + 0.22*x[1] + 2.42*x[3]) +0.7*(31.0*x[0] +12.12*x[1] + 6.77*x[2] + 2.08*x[3]) -70.0)},\n",
    "        {'type': 'ineq', 'fun': lambda x: -1* (7.6*(11.46*x[0] +56.30*x[1] + 1.64*x[2] + 5.36*x[3]) + 6.72*(1.62*x[0] +10.18*x[1] +39.06*x[2] + 2.99*x[3]) +1.43*(0.96*x[0] + 4.76*x[1] +33.94*x[2] +83.61*x[3]) -4.07*(48.36*x[0] +12.70*x[1] +12.20*x[2] + 1.84*x[3]) + 2.85*(0.02*x[0] + 0.22*x[1] + 2.42*x[3]) -0.5*(31.0*x[0] +12.12*x[1] + 6.77*x[2] + 2.08*x[3]) +50.0)},\n",
    "        {'type': 'ineq', 'fun': lambda x: -1 * (8.6*(11.46*x[0] +56.30*x[1] + 1.64*x[2] + 5.36*x[3]) + 5.07*(1.62*x[0] +10.18*x[1] +39.06*x[2] + 2.99*x[3]) + 1.08*(0.96*x[0] + 4.76*x[1] +33.94*x[2] +83.61*x[3]) -3.04*(48.36*x[0] +12.70*x[1] +12.20*x[2] + 1.84*x[3]) + 2.15*(0.02*x[0] + 0.22*x[1] + 0.00*x[2] + 2.42*x[3]) +0.4*(31*x[0] +12.12*x[1] + 6.77*x[2] + 2.08*x[3]) -40)},\n",
    "        {'type': 'ineq', 'fun': lambda x: -1 * (-8.6*(11.46*x[0] +56.30*x[1] + 1.64*x[2] + 5.36*x[3]) - 5.07*(1.62*x[0] +10.18*x[1] +39.06*x[2] + 2.99*x[3]) - 1.08*(0.96*x[0] + 4.76*x[1] +33.94*x[2] +83.61*x[3]) +3.04*(48.36*x[0] +12.70*x[1] +12.20*x[2] + 1.84*x[3]) - 2.15*(0.02*x[0] + 0.22*x[1] + 0.00*x[2] + 2.42*x[3]) -2.0*(31*x[0] +12.12*x[1] + 6.77*x[2] + 2.08*x[3]) +20)},\n",
    "        {'type': 'ineq', 'fun': lambda x: -1* (2.65*(1.62*x[0] +10.18*x[1] +39.06*x[2] + 2.99*x[3]) - 1.69*(0.96*x[0] + 4.76*x[1] +33.94*x[2] +83.61*x[3]) -0.1*(31*x[0] +12.12*x[1] + 6.77*x[2] + 2.08*x[3]) -10)},\n",
    "        {'type': 'ineq', 'fun': lambda x: -1* ( 3.04*(0.96*x[0] + 4.76*x[1] +33.94*x[2] +83.61*x[3]) +0.12*(31*x[0] +12.12*x[1] + 6.77*x[2] + 2.08*x[3]) -12)},\n",
    "        {'type': 'ineq', 'fun': lambda x: -1* ( -3.04*(0.96*x[0] + 4.76*x[1] +33.94*x[2] +83.61*x[3]) -0.07*(31*x[0] +12.12*x[1] + 6.77*x[2] + 2.08*x[3]) -7)}\n",
    "        )\n",
    "  \n",
    "X_0 = [0.25,0.25, 0.25,0.25] #initial guess 25% of each material\n",
    "\n",
    "res = minimize(cost_fun, X_0, method='SLSQP',constraints=cons) #optimize\n",
    "\n",
    "print(res)"
   ]
  }
 ],
 "metadata": {
  "kernelspec": {
   "display_name": "Python 3 (ipykernel)",
   "language": "python",
   "name": "python3"
  },
  "language_info": {
   "codemirror_mode": {
    "name": "ipython",
    "version": 3
   },
   "file_extension": ".py",
   "mimetype": "text/x-python",
   "name": "python",
   "nbconvert_exporter": "python",
   "pygments_lexer": "ipython3",
   "version": "3.9.7"
  }
 },
 "nbformat": 4,
 "nbformat_minor": 5
}
