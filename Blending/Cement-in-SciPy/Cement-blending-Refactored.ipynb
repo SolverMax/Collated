{
 "cells": [
  {
   "cell_type": "markdown",
   "id": "799c71f7-b1be-4c50-bfa7-a8c739a45ea0",
   "metadata": {},
   "source": [
    "# Blending optimization tutorial with linear programming in Python\n",
    "Based on: https://github.com/13ff6/CementOptFF/blob/main/CementBlendOpt_FF.py\n",
    "\n",
    "Also see article: https://towardsdatascience.com/blending-optimization-tutorial-with-linear-programming-in-python-74bcc443e4e5\n",
    "\n",
    "Refactored from original:\n",
    "- Add variables x[4]..x[9] to represent q1..q6 discussed in the article. Note that their objective function coefficients equal zero.\n",
    "- Substitute x[4]..x[9] into the original constraints to make them much simpler and less repetitive.\n",
    "- Include `1 *` in `eq` constraints, for consistency with `ineq` constraints.\n",
    "- Add spaces to the data and constraints to emphasise the matrix nature of SciPy's model representation.\n",
    "- Add formatted output of the results."
   ]
  },
  {
   "cell_type": "code",
   "execution_count": 1,
   "id": "e3c6da0d-c332-43dc-a1e8-84d25a75e2c5",
   "metadata": {},
   "outputs": [],
   "source": [
    "import pandas as pd\n",
    "from scipy.optimize import minimize"
   ]
  },
  {
   "cell_type": "code",
   "execution_count": 2,
   "id": "51f85c8e-5d4b-4e69-bd21-b43c08f8a883",
   "metadata": {},
   "outputs": [],
   "source": [
    "#                   x[0]    x[1]    x[2]    x[3]    x[4]    x[5]    x[6]    x[7]    x[8]    x[9]\n",
    "Cost = pd.Series([ 20.00,   6.00, 230.00, 160.00,   0.00,   0.00,   0.00,   0.00,   0.00,   0.00]) # price of each material in order\n",
    "X_0  = pd.Series([  0.25,   0.25,   0.25,   0.25,   0.00,   0.00,   0.00,   0.00,   0.00,   0.00]) # initial guess 25% of each material\n",
    "\n",
    "def cost_fun(x):\n",
    "    return sum(Cost*x) # minimize sum of material costs\n",
    "\n",
    "cons = (\n",
    "        {'type': 'eq',   'fun': lambda x:  1 * (11.46*x[0] + 56.30*x[1] +  1.64*x[2] +  5.36*x[3] -  1.00*x[4]                                                                  +  0.00)},\n",
    "        {'type': 'eq',   'fun': lambda x:  1 * ( 1.62*x[0] + 10.18*x[1] + 39.06*x[2] +  2.99*x[3]              -  1.00*x[5]                                                     +  0.00)},\n",
    "        {'type': 'eq',   'fun': lambda x:  1 * ( 0.96*x[0] +  4.76*x[1] + 33.94*x[2] + 83.61*x[3]                           -  1.00*x[6]                                        +  0.00)},\n",
    "        {'type': 'eq',   'fun': lambda x:  1 * (48.36*x[0] + 12.70*x[1] + 12.20*x[2] +  1.84*x[3]                                        -  1.00*x[7]                           +  0.00)},\n",
    "        {'type': 'eq',   'fun': lambda x:  1 * ( 0.02*x[0] +  0.22*x[1] +  0.00*x[2] +  2.42*x[3]                                                     -  1.00*x[8]              +  0.00)},\n",
    "        {'type': 'eq',   'fun': lambda x:  1 * (31.00*x[0] + 12.12*x[1] +  6.77*x[2] +  2.08*x[3]                                                                  -  1.00*x[9] +  0.00)},\n",
    "    \n",
    "        {'type': 'eq',   'fun': lambda x:  1 * ( 1.00*x[0] +  1.00*x[1] +  1.00*x[2] +  1.00*x[3]                                                                               -  1.00)},\n",
    "    \n",
    "        {'type': 'ineq', 'fun': lambda x: -1 * (                                                     1.00*x[4] -  3.00*x[5] -  3.00*x[6]                                        +  0.00)},\n",
    "        {'type': 'ineq', 'fun': lambda x: -1 * (                                                    -1.00*x[4] +  2.80*x[5] +  2.80*x[6]                                        +  0.00)},\n",
    "        {'type': 'ineq', 'fun': lambda x: -1 * (                                                                  1.00*x[5] -  2.50*x[6]                                        +  0.00)},\n",
    "        {'type': 'ineq', 'fun': lambda x:  1 * (                                                                  1.00*x[5] -  1.50*x[6]                                        +  0.00)},\n",
    "        {'type': 'ineq', 'fun': lambda x: -1 * (                                                    -2.80*x[4] -  1.10*x[5] -  0.70*x[6] +  1.05*x[7]                           +  0.00)},\n",
    "        {'type': 'ineq', 'fun': lambda x: -1 * (                                                     2.80*x[4] +  1.10*x[5] +  0.70*x[6] -  1.11*x[7]                           +  0.00)},\n",
    "        {'type': 'ineq', 'fun': lambda x: -1 * (                                                    -7.60*x[4] -  6.72*x[5] -  1.43*x[6] +  4.07*x[7] -  2.85*x[8] +  0.70*x[9] - 70.00)},\n",
    "        {'type': 'ineq', 'fun': lambda x: -1 * (                                                     7.60*x[4] +  6.72*x[5] +  1.43*x[6] -  4.07*x[7] +  2.85*x[8] -  0.50*x[9] + 50.00)},\n",
    "        {'type': 'ineq', 'fun': lambda x: -1 * (                                                     8.60*x[4] +  5.07*x[5] +  1.08*x[6] -  3.04*x[7] +  2.15*x[8] +  0.40*x[9] - 40.00)},\n",
    "        {'type': 'ineq', 'fun': lambda x: -1 * (                                                    -8.60*x[4] -  5.07*x[5] -  1.08*x[6] +  3.04*x[7] -  2.15*x[8] -  2.00*x[9] + 20.00)},\n",
    "        {'type': 'ineq', 'fun': lambda x: -1 * (                                                                  2.65*x[5] -  1.69*x[6]                           -  0.10*x[9] - 10.00)},\n",
    "        {'type': 'ineq', 'fun': lambda x: -1 * (                                                                               3.04*x[6]                           +  0.12*x[9] - 12.00)},\n",
    "        {'type': 'ineq', 'fun': lambda x: -1 * (                                                                            -  3.04*x[6]                           -  0.07*x[9] -  7.00)}\n",
    "       )\n",
    "\n",
    "res = minimize(cost_fun, X_0, method='SLSQP',constraints=cons) # optimize"
   ]
  },
  {
   "cell_type": "code",
   "execution_count": 3,
   "id": "2b35da74-06dd-4da5-9f29-d1bdd4f990ea",
   "metadata": {},
   "outputs": [
    {
     "name": "stdout",
     "output_type": "stream",
     "text": [
      "Status:    Optimization terminated successfully\n",
      "Objective: $22.66\n"
     ]
    },
    {
     "data": {
      "text/html": [
       "<style type=\"text/css\">\n",
       "</style>\n",
       "<table id=\"T_f0e00\">\n",
       "  <thead>\n",
       "    <tr>\n",
       "      <th class=\"blank level0\" >&nbsp;</th>\n",
       "      <th id=\"T_f0e00_level0_col0\" class=\"col_heading level0 col0\" >Mix</th>\n",
       "    </tr>\n",
       "  </thead>\n",
       "  <tbody>\n",
       "    <tr>\n",
       "      <th id=\"T_f0e00_level0_row0\" class=\"row_heading level0 row0\" >Linestone</th>\n",
       "      <td id=\"T_f0e00_row0_col0\" class=\"data row0 col0\" >88.09%</td>\n",
       "    </tr>\n",
       "    <tr>\n",
       "      <th id=\"T_f0e00_level0_row1\" class=\"row_heading level0 row1\" >Clay</th>\n",
       "      <td id=\"T_f0e00_row1_col0\" class=\"data row1 col0\" >9.91%</td>\n",
       "    </tr>\n",
       "    <tr>\n",
       "      <th id=\"T_f0e00_level0_row2\" class=\"row_heading level0 row2\" >Bauxite</th>\n",
       "      <td id=\"T_f0e00_row2_col0\" class=\"data row2 col0\" >1.79%</td>\n",
       "    </tr>\n",
       "    <tr>\n",
       "      <th id=\"T_f0e00_level0_row3\" class=\"row_heading level0 row3\" >Pyrites</th>\n",
       "      <td id=\"T_f0e00_row3_col0\" class=\"data row3 col0\" >0.20%</td>\n",
       "    </tr>\n",
       "    <tr>\n",
       "      <th id=\"T_f0e00_level0_row4\" class=\"row_heading level0 row4\" >Total</th>\n",
       "      <td id=\"T_f0e00_row4_col0\" class=\"data row4 col0\" >100.00%</td>\n",
       "    </tr>\n",
       "  </tbody>\n",
       "</table>\n"
      ],
      "text/plain": [
       "<pandas.io.formats.style.Styler at 0x207e9238070>"
      ]
     },
     "metadata": {},
     "output_type": "display_data"
    }
   ],
   "source": [
    "print('Status:   ', res.message)\n",
    "if res.success:\n",
    "    print(f'Objective: ${res.fun:.2f}')\n",
    "    Ingredients = pd.DataFrame()\n",
    "    for i in range(0, 4):\n",
    "        Ingredients.loc[i, 'Mix'] = res.x[int(i)]\n",
    "    Ingredients.index = ['Linestone', 'Clay', 'Bauxite', 'Pyrites']\n",
    "    Ingredients.loc[\"Total\"] = Ingredients.sum()\n",
    "    display(Ingredients.style.format({'Mix': \"{:.2%}\"}))    \n",
    "else:\n",
    "    print('No solution')"
   ]
  },
  {
   "cell_type": "code",
   "execution_count": null,
   "id": "61216a08-30fe-4588-ad5a-a2bfa99adee0",
   "metadata": {},
   "outputs": [],
   "source": []
  }
 ],
 "metadata": {
  "kernelspec": {
   "display_name": "Python 3 (ipykernel)",
   "language": "python",
   "name": "python3"
  },
  "language_info": {
   "codemirror_mode": {
    "name": "ipython",
    "version": 3
   },
   "file_extension": ".py",
   "mimetype": "text/x-python",
   "name": "python",
   "nbconvert_exporter": "python",
   "pygments_lexer": "ipython3",
   "version": "3.9.7"
  }
 },
 "nbformat": 4,
 "nbformat_minor": 5
}
