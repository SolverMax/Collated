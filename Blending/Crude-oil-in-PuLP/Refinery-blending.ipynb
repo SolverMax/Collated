{
 "cells": [
  {
   "cell_type": "markdown",
   "metadata": {},
   "source": [
    "# Crude oil blending\n",
    "Source: https://github.com/mohiteprathamesh1996/Crude-Blending\n",
    "\n",
    "Article: https://medium.com/analytics-vidhya/crude-blending-gaining-a-competitive-edge-in-the-oil-gas-industry-through-linear-programming-32c0709c5d6a"
   ]
  },
  {
   "cell_type": "markdown",
   "metadata": {
    "tags": []
   },
   "source": [
    "#### Load packages"
   ]
  },
  {
   "cell_type": "code",
   "execution_count": 1,
   "metadata": {},
   "outputs": [],
   "source": [
    "import pandas as pd\n",
    "import numpy as np\n",
    "import itertools\n",
    "#from tqdm import tqdm\n",
    "from pulp import *\n",
    "import matplotlib.pyplot as plt\n",
    "from IPython.display import display, HTML\n",
    "\n",
    "def display_side_by_side(dfs:list, captions:list):\n",
    "    \"\"\"Display tables side by side to save vertical space\n",
    "    Input:\n",
    "        dfs: list of pandas.DataFrame\n",
    "        captions: list of table captions\n",
    "    \"\"\"\n",
    "    output = \"\"\n",
    "    combined = dict(zip(captions, dfs))\n",
    "    for caption, df in combined.items():\n",
    "        output += df.style.set_table_attributes(\"style='display:inline'\").set_caption(caption)._repr_html_()\n",
    "        output += \"\\xa0\\xa0\\xa0\"\n",
    "    display(HTML(output))\n",
    "\n",
    "import warnings\n",
    "warnings.filterwarnings(\"ignore\")"
   ]
  },
  {
   "cell_type": "markdown",
   "metadata": {},
   "source": [
    "#### Load data"
   ]
  },
  {
   "cell_type": "code",
   "execution_count": 2,
   "metadata": {},
   "outputs": [
    {
     "data": {
      "text/html": [
       "<style type=\"text/css\">\n",
       "</style>\n",
       "<table id=\"T_244c8\" style='display:inline'>\n",
       "  <caption>Raw Crude</caption>\n",
       "  <thead>\n",
       "    <tr>\n",
       "      <th class=\"blank level0\" >&nbsp;</th>\n",
       "      <th id=\"T_244c8_level0_col0\" class=\"col_heading level0 col0\" >Octane Number</th>\n",
       "      <th id=\"T_244c8_level0_col1\" class=\"col_heading level0 col1\" >Purchasing Price Per Barrel</th>\n",
       "      <th id=\"T_244c8_level0_col2\" class=\"col_heading level0 col2\" >Sulfur content (%)</th>\n",
       "    </tr>\n",
       "    <tr>\n",
       "      <th class=\"index_name level0\" >Crude Type</th>\n",
       "      <th class=\"blank col0\" >&nbsp;</th>\n",
       "      <th class=\"blank col1\" >&nbsp;</th>\n",
       "      <th class=\"blank col2\" >&nbsp;</th>\n",
       "    </tr>\n",
       "  </thead>\n",
       "  <tbody>\n",
       "    <tr>\n",
       "      <th id=\"T_244c8_level0_row0\" class=\"row_heading level0 row0\" >West_Texas_Intermediate</th>\n",
       "      <td id=\"T_244c8_row0_col0\" class=\"data row0 col0\" >92</td>\n",
       "      <td id=\"T_244c8_row0_col1\" class=\"data row0 col1\" >45.290000</td>\n",
       "      <td id=\"T_244c8_row0_col2\" class=\"data row0 col2\" >0.002400</td>\n",
       "    </tr>\n",
       "    <tr>\n",
       "      <th id=\"T_244c8_level0_row1\" class=\"row_heading level0 row1\" >Brent</th>\n",
       "      <td id=\"T_244c8_row1_col0\" class=\"data row1 col0\" >86</td>\n",
       "      <td id=\"T_244c8_row1_col1\" class=\"data row1 col1\" >25.340000</td>\n",
       "      <td id=\"T_244c8_row1_col2\" class=\"data row1 col2\" >0.003700</td>\n",
       "    </tr>\n",
       "    <tr>\n",
       "      <th id=\"T_244c8_level0_row2\" class=\"row_heading level0 row2\" >Saharan_Blend</th>\n",
       "      <td id=\"T_244c8_row2_col0\" class=\"data row2 col0\" >90</td>\n",
       "      <td id=\"T_244c8_row2_col1\" class=\"data row2 col1\" >20.450000</td>\n",
       "      <td id=\"T_244c8_row2_col2\" class=\"data row2 col2\" >0.030000</td>\n",
       "    </tr>\n",
       "    <tr>\n",
       "      <th id=\"T_244c8_level0_row3\" class=\"row_heading level0 row3\" >BCF_17</th>\n",
       "      <td id=\"T_244c8_row3_col0\" class=\"data row3 col0\" >82</td>\n",
       "      <td id=\"T_244c8_row3_col1\" class=\"data row3 col1\" >22.400000</td>\n",
       "      <td id=\"T_244c8_row3_col2\" class=\"data row3 col2\" >0.025000</td>\n",
       "    </tr>\n",
       "  </tbody>\n",
       "</table>\n",
       "   <style type=\"text/css\">\n",
       "</style>\n",
       "<table id=\"T_48e5c\" style='display:inline'>\n",
       "  <caption>Blended Products from Raw Crude</caption>\n",
       "  <thead>\n",
       "    <tr>\n",
       "      <th class=\"blank level0\" >&nbsp;</th>\n",
       "      <th id=\"T_48e5c_level0_col0\" class=\"col_heading level0 col0\" >Octane Number</th>\n",
       "      <th id=\"T_48e5c_level0_col1\" class=\"col_heading level0 col1\" >Selling Price per Barrel</th>\n",
       "      <th id=\"T_48e5c_level0_col2\" class=\"col_heading level0 col2\" >Allowable Sulfur (%)</th>\n",
       "      <th id=\"T_48e5c_level0_col3\" class=\"col_heading level0 col3\" >Demand</th>\n",
       "    </tr>\n",
       "    <tr>\n",
       "      <th class=\"index_name level0\" >Product Name</th>\n",
       "      <th class=\"blank col0\" >&nbsp;</th>\n",
       "      <th class=\"blank col1\" >&nbsp;</th>\n",
       "      <th class=\"blank col2\" >&nbsp;</th>\n",
       "      <th class=\"blank col3\" >&nbsp;</th>\n",
       "    </tr>\n",
       "  </thead>\n",
       "  <tbody>\n",
       "    <tr>\n",
       "      <th id=\"T_48e5c_level0_row0\" class=\"row_heading level0 row0\" >Fuel_1</th>\n",
       "      <td id=\"T_48e5c_row0_col0\" class=\"data row0 col0\" >90</td>\n",
       "      <td id=\"T_48e5c_row0_col1\" class=\"data row0 col1\" >70.850000</td>\n",
       "      <td id=\"T_48e5c_row0_col2\" class=\"data row0 col2\" >0.010000</td>\n",
       "      <td id=\"T_48e5c_row0_col3\" class=\"data row0 col3\" >3000</td>\n",
       "    </tr>\n",
       "    <tr>\n",
       "      <th id=\"T_48e5c_level0_row1\" class=\"row_heading level0 row1\" >Fuel_2</th>\n",
       "      <td id=\"T_48e5c_row1_col0\" class=\"data row1 col0\" >89</td>\n",
       "      <td id=\"T_48e5c_row1_col1\" class=\"data row1 col1\" >60.770000</td>\n",
       "      <td id=\"T_48e5c_row1_col2\" class=\"data row1 col2\" >0.020000</td>\n",
       "      <td id=\"T_48e5c_row1_col3\" class=\"data row1 col3\" >2000</td>\n",
       "    </tr>\n",
       "    <tr>\n",
       "      <th id=\"T_48e5c_level0_row2\" class=\"row_heading level0 row2\" >Fuel_3</th>\n",
       "      <td id=\"T_48e5c_row2_col0\" class=\"data row2 col0\" >87</td>\n",
       "      <td id=\"T_48e5c_row2_col1\" class=\"data row2 col1\" >50.550000</td>\n",
       "      <td id=\"T_48e5c_row2_col2\" class=\"data row2 col2\" >0.010000</td>\n",
       "      <td id=\"T_48e5c_row2_col3\" class=\"data row2 col3\" >1000</td>\n",
       "    </tr>\n",
       "  </tbody>\n",
       "</table>\n",
       "   "
      ],
      "text/plain": [
       "<IPython.core.display.HTML object>"
      ]
     },
     "metadata": {},
     "output_type": "display_data"
    }
   ],
   "source": [
    "raw_crude_df = pd.read_excel(\"Crude-Blending.xlsx\", sheet_name=\"Raw Crude\")\n",
    "raw_crude_df.set_index([\"Crude Type\"], inplace=True)\n",
    "\n",
    "products_df = pd.read_excel(\"Crude-Blending.xlsx\", sheet_name=\"Products\")\n",
    "products_df.set_index([\"Product Name\"], inplace=True)\n",
    "\n",
    "display_side_by_side(dfs=[raw_crude_df, products_df], captions=[\"Raw Crude\", \"Blended Products from Raw Crude\"])"
   ]
  },
  {
   "cell_type": "markdown",
   "metadata": {},
   "source": [
    "#### Decision variables"
   ]
  },
  {
   "cell_type": "code",
   "execution_count": 3,
   "metadata": {},
   "outputs": [],
   "source": [
    "crude_types = raw_crude_df.index.to_list()\n",
    "products = products_df.index.to_list()\n",
    "\n",
    "var_dict = LpVariable.dicts(\"Blends\", [(crude, product) for crude in crude_types for product in products], lowBound=0, cat=\"Integer\")"
   ]
  },
  {
   "cell_type": "markdown",
   "metadata": {},
   "source": [
    "#### Model initialization"
   ]
  },
  {
   "cell_type": "code",
   "execution_count": 4,
   "metadata": {},
   "outputs": [],
   "source": [
    "model = LpProblem(\"Optimized Blending of Crude Oil Types\", LpMaximize)"
   ]
  },
  {
   "cell_type": "markdown",
   "metadata": {},
   "source": [
    "#### Objective function"
   ]
  },
  {
   "cell_type": "code",
   "execution_count": 5,
   "metadata": {
    "scrolled": true
   },
   "outputs": [],
   "source": [
    "purchasing_cost = lpSum([raw_crude_df.loc[c, \"Purchasing Price Per Barrel\"] * var_dict[(c, p)] for c in crude_types for p in products])\n",
    "conversion_cost = lpSum([4 * var_dict[(c, p)] for c in crude_types for p in products])\n",
    "selling_price = lpSum([products_df.loc[p, \"Selling Price per Barrel\"] * var_dict[(c, p)] for p in products for c in crude_types])\n",
    "model += selling_price - (purchasing_cost + conversion_cost)"
   ]
  },
  {
   "cell_type": "markdown",
   "metadata": {},
   "source": [
    "#### Constraints"
   ]
  },
  {
   "cell_type": "code",
   "execution_count": 6,
   "metadata": {},
   "outputs": [],
   "source": [
    "#1 Up to 7500 barrels of each crude type can be purchased per day\n",
    "for c in crude_types:\n",
    "    model += lpSum([var_dict[(c, p)] for p in products]) <= 7500\n",
    "\n",
    "#2 Fuel quality based on Octane number\n",
    "for p in products:\n",
    "    model += lpDot([var_dict[(c,p)] for c in crude_types], [raw_crude_df.loc[c, \"Octane Number\"] for c in crude_types]) \\\n",
    "             >= products_df.loc[p, \"Octane Number\"] * lpSum([var_dict[(c, p)] for c in crude_types])\n",
    "    \n",
    "#3 Maximum production capacity of 50000 barrels per day\n",
    "model += lpSum([var_dict[(c, p)] for c in crude_types for p in products]) <= 50000\n",
    "\n",
    "#4 Fulfill daily customer demand \n",
    "for p in products:\n",
    "    model += lpSum([var_dict[(c,p)] for c in crude_types]) == products_df.loc[p, \"Demand\"]\n",
    "\n",
    "#5 Sulfur content limitations\n",
    "for p in products:\n",
    "    model += lpDot([var_dict[(c,p)] for c in crude_types], [raw_crude_df.loc[c, \"Sulfur content (%)\"] for c in crude_types]) \\\n",
    "             <= products_df.loc[p, \"Allowable Sulfur (%)\"] * lpSum([var_dict[(c, p)] for c in crude_types])"
   ]
  },
  {
   "cell_type": "markdown",
   "metadata": {},
   "source": [
    "#### Optimal solution"
   ]
  },
  {
   "cell_type": "code",
   "execution_count": 7,
   "metadata": {},
   "outputs": [],
   "source": [
    "model.solve()\n",
    "\n",
    "if LpStatus[model.status]==\"Optimal\":\n",
    "    optimal_soln = pd.DataFrame([(v.name, int(v.varValue)) for v in model.variables() if v.varValue!=0], columns=[\"Decisions\", \"Number of Barrels\"])"
   ]
  },
  {
   "cell_type": "markdown",
   "metadata": {},
   "source": [
    "#### Display optimal blending proportion for each product"
   ]
  },
  {
   "cell_type": "code",
   "execution_count": 8,
   "metadata": {},
   "outputs": [
    {
     "name": "stdout",
     "output_type": "stream",
     "text": [
      "Total Profit : USD $ 186819.97\n"
     ]
    },
    {
     "data": {
      "text/html": [
       "<style type=\"text/css\">\n",
       "</style>\n",
       "<table id=\"T_1ef4d\" style='display:inline'>\n",
       "  <caption>Optimal Blending Proportions for Fuel_1</caption>\n",
       "  <thead>\n",
       "    <tr>\n",
       "      <th class=\"blank level0\" >&nbsp;</th>\n",
       "      <th id=\"T_1ef4d_level0_col0\" class=\"col_heading level0 col0\" >Blend_Perc (%)</th>\n",
       "    </tr>\n",
       "    <tr>\n",
       "      <th class=\"index_name level0\" >Decisions</th>\n",
       "      <th class=\"blank col0\" >&nbsp;</th>\n",
       "    </tr>\n",
       "  </thead>\n",
       "  <tbody>\n",
       "    <tr>\n",
       "      <th id=\"T_1ef4d_level0_row0\" class=\"row_heading level0 row0\" >Blends_('Brent',_'Fuel_1')</th>\n",
       "      <td id=\"T_1ef4d_row0_col0\" class=\"data row0 col0\" >24.530000</td>\n",
       "    </tr>\n",
       "    <tr>\n",
       "      <th id=\"T_1ef4d_level0_row1\" class=\"row_heading level0 row1\" >Blends_('Saharan_Blend',_'Fuel_1')</th>\n",
       "      <td id=\"T_1ef4d_row1_col0\" class=\"data row1 col0\" >26.370000</td>\n",
       "    </tr>\n",
       "    <tr>\n",
       "      <th id=\"T_1ef4d_level0_row2\" class=\"row_heading level0 row2\" >Blends_('West_Texas_Intermediate',_'Fuel_1')</th>\n",
       "      <td id=\"T_1ef4d_row2_col0\" class=\"data row2 col0\" >49.100000</td>\n",
       "    </tr>\n",
       "  </tbody>\n",
       "</table>\n",
       "   <style type=\"text/css\">\n",
       "</style>\n",
       "<table id=\"T_dc072\" style='display:inline'>\n",
       "  <caption>Optimal Blending Proportions for Fuel_2</caption>\n",
       "  <thead>\n",
       "    <tr>\n",
       "      <th class=\"blank level0\" >&nbsp;</th>\n",
       "      <th id=\"T_dc072_level0_col0\" class=\"col_heading level0 col0\" >Blend_Perc (%)</th>\n",
       "    </tr>\n",
       "    <tr>\n",
       "      <th class=\"index_name level0\" >Decisions</th>\n",
       "      <th class=\"blank col0\" >&nbsp;</th>\n",
       "    </tr>\n",
       "  </thead>\n",
       "  <tbody>\n",
       "    <tr>\n",
       "      <th id=\"T_dc072_level0_row0\" class=\"row_heading level0 row0\" >Blends_('Brent',_'Fuel_2')</th>\n",
       "      <td id=\"T_dc072_row0_col0\" class=\"data row0 col0\" >29.200000</td>\n",
       "    </tr>\n",
       "    <tr>\n",
       "      <th id=\"T_dc072_level0_row1\" class=\"row_heading level0 row1\" >Blends_('Saharan_Blend',_'Fuel_2')</th>\n",
       "      <td id=\"T_dc072_row1_col0\" class=\"data row1 col0\" >62.350000</td>\n",
       "    </tr>\n",
       "    <tr>\n",
       "      <th id=\"T_dc072_level0_row2\" class=\"row_heading level0 row2\" >Blends_('West_Texas_Intermediate',_'Fuel_2')</th>\n",
       "      <td id=\"T_dc072_row2_col0\" class=\"data row2 col0\" >8.450000</td>\n",
       "    </tr>\n",
       "  </tbody>\n",
       "</table>\n",
       "   <style type=\"text/css\">\n",
       "</style>\n",
       "<table id=\"T_fd1b0\" style='display:inline'>\n",
       "  <caption>Optimal Blending Proportions for Fuel_3</caption>\n",
       "  <thead>\n",
       "    <tr>\n",
       "      <th class=\"blank level0\" >&nbsp;</th>\n",
       "      <th id=\"T_fd1b0_level0_col0\" class=\"col_heading level0 col0\" >Blend_Perc (%)</th>\n",
       "    </tr>\n",
       "    <tr>\n",
       "      <th class=\"index_name level0\" >Decisions</th>\n",
       "      <th class=\"blank col0\" >&nbsp;</th>\n",
       "    </tr>\n",
       "  </thead>\n",
       "  <tbody>\n",
       "    <tr>\n",
       "      <th id=\"T_fd1b0_level0_row0\" class=\"row_heading level0 row0\" >Blends_('BCF_17',_'Fuel_3')</th>\n",
       "      <td id=\"T_fd1b0_row0_col0\" class=\"data row0 col0\" >0.100000</td>\n",
       "    </tr>\n",
       "    <tr>\n",
       "      <th id=\"T_fd1b0_level0_row1\" class=\"row_heading level0 row1\" >Blends_('Brent',_'Fuel_3')</th>\n",
       "      <td id=\"T_fd1b0_row1_col0\" class=\"data row1 col0\" >75.200000</td>\n",
       "    </tr>\n",
       "    <tr>\n",
       "      <th id=\"T_fd1b0_level0_row2\" class=\"row_heading level0 row2\" >Blends_('Saharan_Blend',_'Fuel_3')</th>\n",
       "      <td id=\"T_fd1b0_row2_col0\" class=\"data row2 col0\" >23.900000</td>\n",
       "    </tr>\n",
       "    <tr>\n",
       "      <th id=\"T_fd1b0_level0_row3\" class=\"row_heading level0 row3\" >Blends_('West_Texas_Intermediate',_'Fuel_3')</th>\n",
       "      <td id=\"T_fd1b0_row3_col0\" class=\"data row3 col0\" >0.800000</td>\n",
       "    </tr>\n",
       "  </tbody>\n",
       "</table>\n",
       "   "
      ],
      "text/plain": [
       "<IPython.core.display.HTML object>"
      ]
     },
     "metadata": {},
     "output_type": "display_data"
    }
   ],
   "source": [
    "print(\"Total Profit : USD $ {}\".format(round(value(model.objective), 2)))\n",
    "\n",
    "display_side_by_side(\n",
    "    dfs=[round(100 * np.divide(optimal_soln[optimal_soln[\"Decisions\"].str.contains(p)].set_index(\"Decisions\"),\n",
    "        optimal_soln[optimal_soln[\"Decisions\"].str.contains(p)].set_index(\"Decisions\").sum()), 2).rename(columns={\"Number of Barrels\":\"Blend_Perc (%)\"}) for p in products], \n",
    "    captions=[\"Optimal Blending Proportions for \"+i for i in products])"
   ]
  }
 ],
 "metadata": {
  "kernelspec": {
   "display_name": "Python 3 (ipykernel)",
   "language": "python",
   "name": "python3"
  },
  "language_info": {
   "codemirror_mode": {
    "name": "ipython",
    "version": 3
   },
   "file_extension": ".py",
   "mimetype": "text/x-python",
   "name": "python",
   "nbconvert_exporter": "python",
   "pygments_lexer": "ipython3",
   "version": "3.9.7"
  }
 },
 "nbformat": 4,
 "nbformat_minor": 4
}
