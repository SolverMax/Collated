{
 "cells": [
  {
   "cell_type": "markdown",
   "metadata": {},
   "source": [
    "# Portfolio optimization\n",
    "Source:   https://nbviewer.org/github/cvxgrp/cvx_short_course/blob/master/applications/portfolio_optimization.ipynb\n",
    "\n",
    "Also see: https://stanford.edu/~boyd/papers/cvx_short_course.html"
   ]
  },
  {
   "cell_type": "markdown",
   "metadata": {},
   "source": [
    "### Portfolio allocation vector\n",
    "\n",
    "In this example we show how to do portfolio optimization using CVXPY.\n",
    "We begin with the basic definitions.\n",
    "In portfolio optimization we have some amount of money to invest in any of $n$ different assets. \n",
    "We choose what fraction $w_i$ of our money to invest in each asset $i$, $i=1, \\ldots, n$.\n",
    "\n",
    "We call $w\\in {\\bf R}^n$ the *portfolio allocation vector*.\n",
    "We of course have the constraint that ${\\mathbf 1}^T w =1$.\n",
    "The allocation $w_i<0$ means a *short position* in asset $i$, or that we borrow shares to sell now that we must replace later.\n",
    "The allocation $w \\geq 0$ is a *long only* portfolio.\n",
    "The quantity\n",
    "$$ \\|w \\|_1 = {\\mathbf 1}^T w_+ + {\\mathbf 1}^T w_- $$\n",
    "is known as *leverage*."
   ]
  },
  {
   "cell_type": "markdown",
   "metadata": {},
   "source": [
    "### Asset returns\n",
    "\n",
    "We will only model investments held for one period. The initial prices are $p_i > 0$. The end of period prices are $p_i^+ >0$. The asset (fractional) returns are $r_i = (p_i^+-p_i)/p_i$. The porfolio (fractional) return is $R = r^Tw$.\n",
    "\n",
    "A common model is that $r$ is a random variable with mean ${\\bf E}r = \\mu$ and covariance ${\\bf E{(r-\\mu)(r-\\mu)^T}} = \\Sigma$.\n",
    "It follows that $R$ is a random variable with ${\\bf E}R = \\mu^T w$ and ${\\bf var}(R) = w^T\\Sigma w$.\n",
    "${\\bf E}R$ is the (mean) *return* of the portfolio. ${\\bf var}(R)$ is the *risk* of the portfolio.\n",
    "(Risk is also sometimes given as ${\\bf std}(R) = \\sqrt{{\\bf var}(R)}$.)\n",
    "\n",
    "Portfolio optimization has two competing objectives: high return and low risk."
   ]
  },
  {
   "cell_type": "markdown",
   "metadata": {},
   "source": [
    "### Classical (Markowitz) portfolio optimization\n",
    "\n",
    "Classical (Markowitz) portfolio optimization solves the optimization problem\n",
    "\n",
    "\\begin{array}{ll} \\mbox{maximize} & \\mu^T w - \\gamma w^T\\Sigma w\\\\\n",
    "\\mbox{subject to} & {\\bf 1}^T w = 1, \\quad w \\in {\\cal W},\n",
    "\\end{array}\n",
    "\n",
    "where $w \\in {\\bf R}^n$ is the optimization variable, $\\cal W$ is a set of allowed portfolios (e.g., ${\\cal W} = {\\bf R}_+^n$ for a long only portfolio), and $\\gamma >0$ is the *risk aversion parameter*.\n",
    "\n",
    "The objective $\\mu^Tw - \\gamma w^T\\Sigma w$ is the *risk-adjusted return*. Varying $\\gamma$ gives the optimal *risk-return trade-off*. \n",
    "We can get the same risk-return trade-off by fixing return and minimizing risk."
   ]
  },
  {
   "cell_type": "markdown",
   "metadata": {},
   "source": [
    "### Example\n",
    "\n",
    "In the following code we compute and plot the optimal risk-return trade-off for $10$ assets, restricting ourselves to a long only portfolio."
   ]
  },
  {
   "cell_type": "code",
   "execution_count": null,
   "metadata": {
    "collapsed": false,
    "jupyter": {
     "outputs_hidden": false
    },
    "pycharm": {
     "name": "#%%\n"
    }
   },
   "outputs": [],
   "source": [
    "# Generate data for long only portfolio optimization.\n",
    "import numpy as np\n",
    "import scipy.sparse as sp\n",
    "\n",
    "np.random.seed(1)\n",
    "n = 10\n",
    "mu = np.abs(np.random.randn(n, 1))\n",
    "Sigma = np.random.randn(n, n)\n",
    "Sigma = Sigma.T.dot(Sigma)"
   ]
  },
  {
   "cell_type": "code",
   "execution_count": null,
   "metadata": {
    "collapsed": false,
    "jupyter": {
     "outputs_hidden": false
    },
    "pycharm": {
     "name": "#%%\n"
    }
   },
   "outputs": [],
   "source": [
    "# Long only portfolio optimization.\n",
    "import cvxpy as cp\n",
    "\n",
    "\n",
    "w = cp.Variable(n)\n",
    "gamma = cp.Parameter(nonneg=True)\n",
    "ret = mu.T @ w\n",
    "risk = cp.quad_form(w, Sigma)\n",
    "prob = cp.Problem(cp.Maximize(ret - gamma * risk), [cp.sum(w) == 1, w >= 0])"
   ]
  },
  {
   "cell_type": "code",
   "execution_count": null,
   "metadata": {
    "collapsed": false,
    "jupyter": {
     "outputs_hidden": false
    },
    "pycharm": {
     "name": "#%%\n"
    }
   },
   "outputs": [],
   "source": [
    "# Compute trade-off curve.\n",
    "SAMPLES = 100\n",
    "risk_data = np.zeros(SAMPLES)\n",
    "ret_data = np.zeros(SAMPLES)\n",
    "gamma_vals = np.logspace(-2, 3, num=SAMPLES)\n",
    "for i in range(SAMPLES):\n",
    "    gamma.value = gamma_vals[i]\n",
    "    prob.solve()\n",
    "    risk_data[i] = cp.sqrt(risk).value\n",
    "    ret_data[i] = ret.value"
   ]
  },
  {
   "cell_type": "code",
   "execution_count": null,
   "metadata": {
    "collapsed": false,
    "jupyter": {
     "outputs_hidden": false
    },
    "pycharm": {
     "name": "#%%\n"
    }
   },
   "outputs": [],
   "source": [
    "# Plot long only trade-off curve.\n",
    "import matplotlib.pyplot as plt\n",
    "\n",
    "%matplotlib inline\n",
    "%config InlineBackend.figure_format = 'svg'\n",
    "\n",
    "markers_on = [29, 40]\n",
    "fig = plt.figure()\n",
    "ax = fig.add_subplot(111)\n",
    "plt.plot(risk_data, ret_data, \"g-\")\n",
    "for marker in markers_on:\n",
    "    plt.plot(risk_data[marker], ret_data[marker], \"bs\")\n",
    "    ax.annotate(\n",
    "        r\"$\\gamma = %.2f$\" % gamma_vals[marker],\n",
    "        xy=(risk_data[marker] + 0.08, ret_data[marker] - 0.03),\n",
    "    )\n",
    "for i in range(n):\n",
    "    plt.plot(cp.sqrt(Sigma[i, i]).value, mu[i], \"ro\")\n",
    "plt.xlabel(\"Standard deviation\")\n",
    "plt.ylabel(\"Return\")\n",
    "plt.show()"
   ]
  },
  {
   "cell_type": "markdown",
   "metadata": {
    "pycharm": {
     "name": "#%% md\n"
    }
   },
   "source": [
    "We plot below the return distributions for the two risk aversion values marked on the trade-off curve.\n",
    "Notice that the probability of a loss is near 0 for the low risk value and far above 0 for the high risk value."
   ]
  },
  {
   "cell_type": "code",
   "execution_count": null,
   "metadata": {
    "collapsed": false,
    "jupyter": {
     "outputs_hidden": false
    },
    "pycharm": {
     "name": "#%%\n"
    }
   },
   "outputs": [],
   "source": [
    "# Plot return distributions for two points on the trade-off curve.\n",
    "import scipy.stats as spstats\n",
    "\n",
    "\n",
    "plt.figure()\n",
    "for midx, idx in enumerate(markers_on):\n",
    "    gamma.value = gamma_vals[idx]\n",
    "    prob.solve()\n",
    "    x = np.linspace(-2, 5, 1000)\n",
    "    plt.plot(\n",
    "        x,\n",
    "        spstats.norm.pdf(x, ret.value, risk.value),\n",
    "        label=r\"$\\gamma = %.2f$\" % gamma.value,\n",
    "    )\n",
    "\n",
    "plt.xlabel(\"Return\")\n",
    "plt.ylabel(\"Density\")\n",
    "plt.legend(loc=\"upper right\")\n",
    "plt.show()"
   ]
  },
  {
   "cell_type": "markdown",
   "metadata": {
    "pycharm": {
     "name": "#%% md\n"
    }
   },
   "source": [
    "### Portfolio constraints\n",
    "\n",
    "There are many other possible portfolio constraints besides the long only constraint. With no constraint (${\\cal W} = {\\bf R}^n$), the optimization problem has a simple analytical solution. We will look in detail at a *leverage limit*, or the constraint that $\\|w \\|_1 \\leq L^\\mathrm{max}$.\n",
    "\n",
    "\n",
    "Another interesting constraint is the *market neutral* constraint $m^T \\Sigma w =0$, where $m_i$ is the capitalization of asset $i$.\n",
    "$M = m^Tr$ is the *market return*, and $m^T \\Sigma w = {\\bf cov}(M,R)$.\n",
    "The market neutral constraint ensures that the portfolio return is uncorrelated with the market return."
   ]
  },
  {
   "cell_type": "markdown",
   "metadata": {
    "pycharm": {
     "name": "#%% md\n"
    }
   },
   "source": [
    "### Example\n",
    "\n",
    "In the following code we compute and plot optimal risk-return trade-off curves for leverage limits of 1, 2, and 4.\n",
    "Notice that more leverage increases returns and allows greater risk."
   ]
  },
  {
   "cell_type": "code",
   "execution_count": null,
   "metadata": {
    "collapsed": false,
    "jupyter": {
     "outputs_hidden": false
    },
    "pycharm": {
     "name": "#%%\n"
    }
   },
   "outputs": [],
   "source": [
    "# Portfolio optimization with leverage limit.\n",
    "Lmax = cp.Parameter()\n",
    "prob = cp.Problem(\n",
    "    cp.Maximize(ret - gamma * risk), [cp.sum(w) == 1, cp.norm(w, 1) <= Lmax]\n",
    ")"
   ]
  },
  {
   "cell_type": "code",
   "execution_count": null,
   "metadata": {
    "collapsed": false,
    "jupyter": {
     "outputs_hidden": false
    },
    "pycharm": {
     "name": "#%%\n"
    }
   },
   "outputs": [],
   "source": [
    "# Compute trade-off curve for each leverage limit.\n",
    "L_vals = [1, 2, 4]\n",
    "SAMPLES = 100\n",
    "risk_data = np.zeros((len(L_vals), SAMPLES))\n",
    "ret_data = np.zeros((len(L_vals), SAMPLES))\n",
    "gamma_vals = np.logspace(-2, 3, num=SAMPLES)\n",
    "w_vals = []\n",
    "for k, L_val in enumerate(L_vals):\n",
    "    for i in range(SAMPLES):\n",
    "        Lmax.value = L_val\n",
    "        gamma.value = gamma_vals[i]\n",
    "        prob.solve(solver=cp.SCS)\n",
    "        risk_data[k, i] = cp.sqrt(risk).value\n",
    "        ret_data[k, i] = ret.value"
   ]
  },
  {
   "cell_type": "code",
   "execution_count": null,
   "metadata": {
    "collapsed": false,
    "jupyter": {
     "outputs_hidden": false
    },
    "pycharm": {
     "name": "#%%\n"
    }
   },
   "outputs": [],
   "source": [
    "# Plot trade-off curves for each leverage limit.\n",
    "for idx, L_val in enumerate(L_vals):\n",
    "    plt.plot(risk_data[idx, :], ret_data[idx, :], label=r\"$L^{\\max}$ = %d\" % L_val)\n",
    "for w_val in w_vals:\n",
    "    w.value = w_val\n",
    "    plt.plot(cp.sqrt(risk).value, ret.value, \"bs\")\n",
    "plt.xlabel(\"Standard deviation\")\n",
    "plt.ylabel(\"Return\")\n",
    "plt.legend(loc=\"lower right\")\n",
    "plt.show()"
   ]
  },
  {
   "cell_type": "markdown",
   "metadata": {
    "pycharm": {
     "name": "#%% md\n"
    }
   },
   "source": [
    "We next examine the points on each trade-off curve where $w^T\\Sigma w = 2$.\n",
    "We plot the amount of each asset held in each portfolio as bar graphs. (Negative holdings indicate a short position.)\n",
    "Notice that some assets are held in a long position for the low leverage portfolio but in a short position in the higher leverage portfolios. "
   ]
  },
  {
   "cell_type": "code",
   "execution_count": null,
   "metadata": {
    "collapsed": false,
    "jupyter": {
     "outputs_hidden": false
    },
    "pycharm": {
     "name": "#%%\n"
    }
   },
   "outputs": [],
   "source": [
    "# Portfolio optimization with a leverage limit and a bound on risk.\n",
    "prob = cp.Problem(cp.Maximize(ret), [cp.sum(w) == 1, cp.norm(w, 1) <= Lmax, risk <= 2])"
   ]
  },
  {
   "cell_type": "code",
   "execution_count": null,
   "metadata": {
    "collapsed": false,
    "jupyter": {
     "outputs_hidden": false
    },
    "pycharm": {
     "name": "#%%\n"
    }
   },
   "outputs": [],
   "source": [
    "# Compute solution for different leverage limits.\n",
    "for k, L_val in enumerate(L_vals):\n",
    "    Lmax.value = L_val\n",
    "    prob.solve()\n",
    "    w_vals.append(w.value)"
   ]
  },
  {
   "cell_type": "code",
   "execution_count": null,
   "metadata": {
    "collapsed": false,
    "jupyter": {
     "outputs_hidden": false
    },
    "pycharm": {
     "name": "#%%\n"
    }
   },
   "outputs": [],
   "source": [
    "# Plot bar graph of holdings for different leverage limits.\n",
    "colors = [\"b\", \"g\", \"r\"]\n",
    "indices = np.argsort(mu.flatten())\n",
    "for idx, L_val in enumerate(L_vals):\n",
    "    plt.bar(\n",
    "        np.arange(1, n + 1) + 0.25 * idx - 0.375,\n",
    "        w_vals[idx][indices],\n",
    "        color=colors[idx],\n",
    "        label=r\"$L^{\\max}$ = %d\" % L_val,\n",
    "        width=0.25,\n",
    "    )\n",
    "plt.ylabel(r\"$w_i$\", fontsize=16)\n",
    "plt.xlabel(r\"$i$\", fontsize=16)\n",
    "plt.xlim([1 - 0.375, 10 + 0.375])\n",
    "plt.xticks(np.arange(1, n + 1))\n",
    "plt.show()"
   ]
  },
  {
   "cell_type": "markdown",
   "metadata": {
    "pycharm": {
     "name": "#%% md\n"
    }
   },
   "source": [
    "### Variations\n",
    "\n",
    "There are many more variations of classical portfolio optimization. We might require that $\\mu^T w \\geq R^\\mathrm{min}$ and minimize $w^T \\Sigma w$ or $\\|\\Sigma ^{1/2} w\\|_2$.\n",
    "We could include the (broker) cost of short positions as the penalty $s^T (w)_-$ for some $s \\geq 0$.\n",
    "We could include transaction costs (from a previous portfolio $w^\\mathrm{prev}$) as the penalty\n",
    "\n",
    "$$\n",
    "\\kappa ^T |w-w^\\mathrm{prev}|^\\eta, \\quad\n",
    "\\kappa \\geq 0.\n",
    "$$\n",
    "\n",
    "\n",
    "Common values of $\\eta$ are $\\eta =1, ~ 3/2, ~2$.\n"
   ]
  },
  {
   "cell_type": "markdown",
   "metadata": {
    "pycharm": {
     "name": "#%% md\n"
    }
   },
   "source": [
    "### Factor covariance model\n",
    "\n",
    "A particularly common and useful variation is to model the covariance matrix $\\Sigma$ as a factor model\n",
    "\n",
    "$$\n",
    "\\Sigma  =  F \\tilde \\Sigma F^T + D,\n",
    "$$\n",
    "\n",
    "where  $F \\in {\\bf R}^{n \\times k}$, $k \\ll n$ is the *factor loading matrix*. $k$ is the number of factors (or sectors) (typically 10s). $F_{ij}$ is the loading of asset $i$ to factor $j$.\n",
    "$D$ is a diagonal matrix; $D_{ii}>0$ is the *idiosyncratic risk*. $\\tilde \\Sigma > 0$ is the *factor covariance matrix*.\n",
    "\n",
    "$F^Tw \\in {\\bf R}^k$ gives the portfolio *factor exposures*. A portfolio is *factor $j$ neutral* if $(F^Tw)_j=0$.\n"
   ]
  },
  {
   "cell_type": "markdown",
   "metadata": {
    "pycharm": {
     "name": "#%% md\n"
    }
   },
   "source": [
    "### Portfolio optimization with factor covariance model\n",
    "\n",
    "Using the factor covariance model, we frame the portfolio optimization problem as \n",
    "\n",
    "\\begin{array}{ll} \\mbox{maximize} & \\mu^T w - \\gamma \\left(f^T \\tilde \\Sigma f  + w^TDw \\right) \\\\\n",
    "\\mbox{subject to} & {\\bf 1}^T w = 1, \\quad f=F^Tw\\\\\n",
    "& w \\in {\\cal W}, \\quad f \\in {\\cal F},\n",
    "\\end{array}\n",
    "\n",
    "where the variables are the allocations $w \\in {\\bf R}^n$ and factor exposures $f\\in {\\bf R}^k$ and $\\cal F$ gives the factor exposure constraints.\n",
    "\n",
    "Using the factor covariance model in the optimization problem has a computational advantage. The solve time is $O(nk^2)$ versus $O(n^3)$ for the standard problem."
   ]
  },
  {
   "cell_type": "markdown",
   "metadata": {
    "pycharm": {
     "name": "#%% md\n"
    }
   },
   "source": [
    "### Example\n",
    "\n",
    "In the following code we generate and solve a portfolio optimization problem with 50 factors and 3000 assets.\n",
    "We set the leverage limit $=2$ and $\\gamma=0.1$.\n",
    "\n",
    "We solve the problem both with the covariance given as a single matrix and as a factor model.\n",
    "Using CVXPY with the OSQP solver running in a single thread, the solve time was 173.30 seconds for the single matrix formulation and 0.85 seconds for the factor model formulation.\n",
    "We collected the timings on a MacBook Air with an Intel Core i7 processor."
   ]
  },
  {
   "cell_type": "code",
   "execution_count": null,
   "metadata": {
    "collapsed": false,
    "jupyter": {
     "outputs_hidden": false
    },
    "pycharm": {
     "name": "#%%\n"
    }
   },
   "outputs": [],
   "source": [
    "# Generate data for factor model.\n",
    "n = 3000\n",
    "m = 50\n",
    "np.random.seed(1)\n",
    "mu = np.abs(np.random.randn(n, 1))\n",
    "Sigma_tilde = np.random.randn(m, m)\n",
    "Sigma_tilde = Sigma_tilde.T.dot(Sigma_tilde)\n",
    "D = sp.diags(np.random.uniform(0, 0.9, size=n))\n",
    "F = np.random.randn(n, m)"
   ]
  },
  {
   "cell_type": "code",
   "execution_count": null,
   "metadata": {
    "collapsed": false,
    "jupyter": {
     "outputs_hidden": false
    },
    "pycharm": {
     "name": "#%%\n"
    }
   },
   "outputs": [],
   "source": [
    "# Factor model portfolio optimization.\n",
    "w = cp.Variable(n)\n",
    "f = cp.Variable(m)\n",
    "gamma = cp.Parameter(nonneg=True)\n",
    "Lmax = cp.Parameter()\n",
    "ret = mu.T @ w\n",
    "risk = cp.quad_form(f, Sigma_tilde) + cp.sum_squares(np.sqrt(D) @ w)\n",
    "prob_factor = cp.Problem(\n",
    "    cp.Maximize(ret - gamma * risk),\n",
    "    [cp.sum(w) == 1, f == F.T @ w, cp.norm(w, 1) <= Lmax],\n",
    ")\n",
    "\n",
    "# Solve the factor model problem.\n",
    "Lmax.value = 2\n",
    "gamma.value = 0.1\n",
    "prob_factor.solve(verbose=True)"
   ]
  },
  {
   "cell_type": "code",
   "execution_count": null,
   "metadata": {
    "collapsed": false,
    "jupyter": {
     "outputs_hidden": false
    },
    "pycharm": {
     "is_executing": true,
     "name": "#%%\n"
    }
   },
   "outputs": [],
   "source": [
    "from cvxpy.atoms.affine.wraps import psd_wrap\n",
    "\n",
    "# Standard portfolio optimization with data from factor model.\n",
    "risk = cp.quad_form(w, psd_wrap(F.dot(Sigma_tilde).dot(F.T) + D))\n",
    "prob = cp.Problem(\n",
    "    cp.Maximize(ret - gamma * risk), [cp.sum(w) == 1, cp.norm(w, 1) <= Lmax]\n",
    ")\n",
    "\n",
    "# Uncomment to solve the problem.\n",
    "# WARNING: this will take many minutes to run.\n",
    "prob.solve(verbose=True, max_iter=100_000)"
   ]
  },
  {
   "cell_type": "code",
   "execution_count": null,
   "metadata": {
    "collapsed": false,
    "jupyter": {
     "outputs_hidden": false
    },
    "pycharm": {
     "is_executing": true,
     "name": "#%%\n"
    }
   },
   "outputs": [],
   "source": [
    "print(\"Factor model solve time = {}\".format(prob_factor.solver_stats.solve_time))\n",
    "print(\"Single model solve time = {}\".format(prob.solver_stats.solve_time))"
   ]
  }
 ],
 "metadata": {
  "kernelspec": {
   "display_name": "Python 3 (ipykernel)",
   "language": "python",
   "name": "python3"
  },
  "language_info": {
   "codemirror_mode": {
    "name": "ipython",
    "version": 3
   },
   "file_extension": ".py",
   "mimetype": "text/x-python",
   "name": "python",
   "nbconvert_exporter": "python",
   "pygments_lexer": "ipython3",
   "version": "3.9.7"
  }
 },
 "nbformat": 4,
 "nbformat_minor": 4
}
