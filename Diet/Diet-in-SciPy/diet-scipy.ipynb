{
 "cells": [
  {
   "cell_type": "markdown",
   "id": "ca20ee2b-eed7-4e3f-8dc7-f4516f89d4c6",
   "metadata": {},
   "source": [
    "# Stigler diet in scipy\n",
    "Source: https://github.com/glennmoy/stigler_diet"
   ]
  },
  {
   "cell_type": "code",
   "execution_count": 1,
   "id": "4bb49e69-9ce9-4e2a-9860-36652c1ef317",
   "metadata": {},
   "outputs": [],
   "source": [
    "import math\n",
    "import numpy as np\n",
    "from scipy import optimize"
   ]
  },
  {
   "cell_type": "code",
   "execution_count": 2,
   "id": "6050c2bb-b538-453a-8ba7-63eb189a6996",
   "metadata": {},
   "outputs": [],
   "source": [
    "from dietdata import *"
   ]
  },
  {
   "cell_type": "code",
   "execution_count": 3,
   "id": "b2cbfe2d-149d-4ca2-9066-1899c81ffa37",
   "metadata": {},
   "outputs": [],
   "source": [
    "#Cost of each food will just be sum of x vector so c=1\n",
    "c=np.ones(len(data))\n",
    "\n",
    "#Matrix A of vitamins for each food\n",
    "A = np.transpose(np.matrix([i[:][2::] for i in data])) \n",
    "\n",
    "#Recommended daily vitamin allowance for a moderately active man\n",
    "b = np.array([3.0, 70.0, 0.8, 12.0, 5.0, 1.8, 2.7, 18.0, 75.0])"
   ]
  },
  {
   "cell_type": "code",
   "execution_count": 4,
   "id": "96f02054-ec3e-4549-bda8-28ff4b170cb0",
   "metadata": {},
   "outputs": [
    {
     "name": "stdout",
     "output_type": "stream",
     "text": [
      "           con: array([], dtype=float64)\n",
      " crossover_nit: 0\n",
      "         eqlin:  marginals: array([], dtype=float64)\n",
      "  residual: array([], dtype=float64)\n",
      "           fun: 0.10866227820675683\n",
      "       ineqlin:  marginals: array([-0.00876515, -0.        , -0.03173771, -0.        , -0.00040023,\n",
      "       -0.        , -0.01635803, -0.        , -0.00014412])\n",
      "  residual: array([ 0.        , 77.41353494,  0.        , 48.4669221 ,  0.        ,\n",
      "        2.3204388 ,  0.        ,  9.3159807 ,  0.        ])\n",
      "         lower:  marginals: array([0.        , 0.84502763, 0.2955975 , 0.85928007, 0.48890493,\n",
      "       0.69775376, 0.71661769, 0.47079294, 0.64487614, 0.70268197,\n",
      "       0.80732659, 0.86054524, 0.8745668 , 0.31932538, 0.04366642,\n",
      "       0.87802697, 0.77806235, 0.82907182, 0.23490513, 0.86525886,\n",
      "       0.69814941, 0.90901255, 0.82382054, 0.62623429, 0.92388896,\n",
      "       0.93812353, 0.93430866, 0.8965057 , 0.91914871, 0.        ,\n",
      "       0.92058017, 0.92373455, 0.91880775, 0.89302312, 0.87305047,\n",
      "       0.88094446, 0.802597  , 0.94493508, 0.9426662 , 0.65179052,\n",
      "       0.80780497, 0.80836801, 0.83816612, 0.63287096, 0.61481216,\n",
      "       0.        , 0.65406165, 0.82852799, 0.79627022, 0.55476744,\n",
      "       0.33524254, 0.        , 0.34992904, 0.9016638 , 0.93910311,\n",
      "       0.89487878, 0.906897  , 0.77373269, 0.67995288, 0.86768659,\n",
      "       0.85261085, 0.7236222 , 0.78027108, 0.7582477 , 0.66678414,\n",
      "       0.75802395, 0.38925018, 0.10313886, 0.        , 0.91657403,\n",
      "       0.96237652, 0.63386949, 0.83300248, 0.69409636, 0.85528348,\n",
      "       0.47152998, 0.92458471])\n",
      "  residual: array([0.02951906, 0.        , 0.        , 0.        , 0.        ,\n",
      "       0.        , 0.        , 0.        , 0.        , 0.        ,\n",
      "       0.        , 0.        , 0.        , 0.        , 0.        ,\n",
      "       0.        , 0.        , 0.        , 0.        , 0.        ,\n",
      "       0.        , 0.        , 0.        , 0.        , 0.        ,\n",
      "       0.        , 0.        , 0.        , 0.        , 0.00189256,\n",
      "       0.        , 0.        , 0.        , 0.        , 0.        ,\n",
      "       0.        , 0.        , 0.        , 0.        , 0.        ,\n",
      "       0.        , 0.        , 0.        , 0.        , 0.        ,\n",
      "       0.01121444, 0.        , 0.        , 0.        , 0.        ,\n",
      "       0.        , 0.00500766, 0.        , 0.        , 0.        ,\n",
      "       0.        , 0.        , 0.        , 0.        , 0.        ,\n",
      "       0.        , 0.        , 0.        , 0.        , 0.        ,\n",
      "       0.        , 0.        , 0.        , 0.06102856, 0.        ,\n",
      "       0.        , 0.        , 0.        , 0.        , 0.        ,\n",
      "       0.        , 0.        ])\n",
      "       message: 'Optimization terminated successfully.'\n",
      "           nit: 7\n",
      "         slack: array([ 0.        , 77.41353494,  0.        , 48.4669221 ,  0.        ,\n",
      "        2.3204388 ,  0.        ,  9.3159807 ,  0.        ])\n",
      "        status: 0\n",
      "       success: True\n",
      "         upper:  marginals: array([0., 0., 0., 0., 0., 0., 0., 0., 0., 0., 0., 0., 0., 0., 0., 0., 0.,\n",
      "       0., 0., 0., 0., 0., 0., 0., 0., 0., 0., 0., 0., 0., 0., 0., 0., 0.,\n",
      "       0., 0., 0., 0., 0., 0., 0., 0., 0., 0., 0., 0., 0., 0., 0., 0., 0.,\n",
      "       0., 0., 0., 0., 0., 0., 0., 0., 0., 0., 0., 0., 0., 0., 0., 0., 0.,\n",
      "       0., 0., 0., 0., 0., 0., 0., 0., 0.])\n",
      "  residual: array([inf, inf, inf, inf, inf, inf, inf, inf, inf, inf, inf, inf, inf,\n",
      "       inf, inf, inf, inf, inf, inf, inf, inf, inf, inf, inf, inf, inf,\n",
      "       inf, inf, inf, inf, inf, inf, inf, inf, inf, inf, inf, inf, inf,\n",
      "       inf, inf, inf, inf, inf, inf, inf, inf, inf, inf, inf, inf, inf,\n",
      "       inf, inf, inf, inf, inf, inf, inf, inf, inf, inf, inf, inf, inf,\n",
      "       inf, inf, inf, inf, inf, inf, inf, inf, inf, inf, inf, inf])\n",
      "             x: array([0.02951906, 0.        , 0.        , 0.        , 0.        ,\n",
      "       0.        , 0.        , 0.        , 0.        , 0.        ,\n",
      "       0.        , 0.        , 0.        , 0.        , 0.        ,\n",
      "       0.        , 0.        , 0.        , 0.        , 0.        ,\n",
      "       0.        , 0.        , 0.        , 0.        , 0.        ,\n",
      "       0.        , 0.        , 0.        , 0.        , 0.00189256,\n",
      "       0.        , 0.        , 0.        , 0.        , 0.        ,\n",
      "       0.        , 0.        , 0.        , 0.        , 0.        ,\n",
      "       0.        , 0.        , 0.        , 0.        , 0.        ,\n",
      "       0.01121444, 0.        , 0.        , 0.        , 0.        ,\n",
      "       0.        , 0.00500766, 0.        , 0.        , 0.        ,\n",
      "       0.        , 0.        , 0.        , 0.        , 0.        ,\n",
      "       0.        , 0.        , 0.        , 0.        , 0.        ,\n",
      "       0.        , 0.        , 0.        , 0.06102856, 0.        ,\n",
      "       0.        , 0.        , 0.        , 0.        , 0.        ,\n",
      "       0.        , 0.        ])\n",
      "Wheat Flour (Enriched)  = $ 0.029519\n",
      "Liver (Beef)  = $ 0.001893\n",
      "Cabbage  = $ 0.011214\n",
      "Spinach  = $ 0.005008\n",
      "Navy Beans, Dried  = $ 0.061029\n",
      "\n",
      "Total daily cost = $ 0.11\n",
      "\n",
      "Total yearly cost = $ 39.69\n"
     ]
    }
   ],
   "source": [
    "#Minimisation problem with lower bound\n",
    "optimum_ans = optimize.linprog(c, A_ub=-A, b_ub=-b, method='highs')\n",
    "print(optimum_ans)\n",
    "\n",
    "#Print out the relevant foods\n",
    "for i in np.nonzero(optimum_ans.x)[0]:\n",
    "    print(commodities[i][0],\" = $\",round(optimum_ans.x[i],6))\n",
    "\n",
    "\n",
    "print(\"\\nTotal daily cost = $\",round(sum(optimum_ans.x),2))\n",
    "print(\"\\nTotal yearly cost = $\",round(sum(optimum_ans.x*365.25),2))"
   ]
  },
  {
   "cell_type": "code",
   "execution_count": 5,
   "id": "73851203-4716-4e2f-8bf0-128f7b26bd0a",
   "metadata": {},
   "outputs": [
    {
     "name": "stdout",
     "output_type": "stream",
     "text": [
      "[[  3.         147.41353494   0.8         60.4669221    5.\n",
      "    4.1204388    2.7         27.3159807   75.        ]]\n",
      "[ 3.  70.   0.8 12.   5.   1.8  2.7 18.  75. ]\n",
      "[[  0.   110.59   0.   403.89   0.   128.91   0.    51.76   0.  ]]\n"
     ]
    }
   ],
   "source": [
    "#How close are we to the requirements?\n",
    "print(np.matmul(A,optimum_ans.x))\n",
    "print(b)\n",
    "print(np.around(100*abs((np.matmul(A,optimum_ans.x)-b)/b),2))"
   ]
  },
  {
   "cell_type": "code",
   "execution_count": 6,
   "id": "0344c93f-4fb8-4f2c-8192-1426fa0b0dd2",
   "metadata": {},
   "outputs": [
    {
     "name": "stdout",
     "output_type": "stream",
     "text": [
      "     con: array([-1.33226763e-15,  1.42108547e-14, -1.11022302e-16,  1.77635684e-15,\n",
      "        2.66453526e-15,  4.44089210e-16,  0.00000000e+00,  0.00000000e+00,\n",
      "        0.00000000e+00])\n",
      "     fun: 0.13817093550568887\n",
      " message: 'Optimization terminated successfully.'\n",
      "     nit: 16\n",
      "   slack: array([], dtype=float64)\n",
      "  status: 0\n",
      " success: True\n",
      "       x: array([0.01809179, 0.        , 0.        , 0.        , 0.01702068,\n",
      "       0.        , 0.        , 0.        , 0.        , 0.        ,\n",
      "       0.        , 0.        , 0.        , 0.        , 0.04520139,\n",
      "       0.        , 0.        , 0.        , 0.        , 0.        ,\n",
      "       0.00317017, 0.        , 0.        , 0.02439644, 0.        ,\n",
      "       0.        , 0.        , 0.        , 0.        , 0.015273  ,\n",
      "       0.        , 0.        , 0.        , 0.        , 0.        ,\n",
      "       0.        , 0.        , 0.        , 0.        , 0.        ,\n",
      "       0.        , 0.        , 0.        , 0.        , 0.        ,\n",
      "       0.00921709, 0.        , 0.        , 0.        , 0.        ,\n",
      "       0.0051373 , 0.00066308, 0.        , 0.        , 0.        ,\n",
      "       0.        , 0.        , 0.        , 0.        , 0.        ,\n",
      "       0.        , 0.        , 0.        , 0.        , 0.        ,\n",
      "       0.        , 0.        , 0.        , 0.        , 0.        ,\n",
      "       0.        , 0.        , 0.        , 0.        , 0.        ,\n",
      "       0.        , 0.        ])\n",
      "Wheat Flour (Enriched)  = $ 0.018092\n",
      "Corn Meal  = $ 0.017021\n",
      "Evaporated Milk (can)  = $ 0.045201\n",
      "Peanut Butter  = $ 0.00317\n",
      "Lard  = $ 0.024396\n",
      "Liver (Beef)  = $ 0.015273\n",
      "Cabbage  = $ 0.009217\n",
      "Potatoes  = $ 0.005137\n",
      "Spinach  = $ 0.000663\n",
      "\n",
      "Total daily cost = $ 0.14\n",
      "\n",
      "Total yearly cost = $ 50.47\n"
     ]
    }
   ],
   "source": [
    "#Minimisation problem with exact solution \n",
    "exact_ans = optimize.linprog(c, A_eq=A, b_eq=b, method='simplex')\n",
    "print(exact_ans)\n",
    "\n",
    "#Print out the relevant foods\n",
    "for i in np.nonzero(exact_ans.x)[0]:\n",
    "    print(commodities[i][0],\" = $\",round(exact_ans.x[i],6))\n",
    "\n",
    "\n",
    "print(\"\\nTotal daily cost = $\",round(sum(exact_ans.x),2))\n",
    "print(\"\\nTotal yearly cost = $\",round(sum(exact_ans.x*365.25),2))"
   ]
  },
  {
   "cell_type": "code",
   "execution_count": 7,
   "id": "abcd229d-9ce8-4975-9986-49e1732e1e25",
   "metadata": {},
   "outputs": [
    {
     "name": "stdout",
     "output_type": "stream",
     "text": [
      "[[ 3.  70.   0.8 12.   5.   1.8  2.7 18.  75. ]]\n",
      "[ 3.  70.   0.8 12.   5.   1.8  2.7 18.  75. ]\n",
      "[[0. 0. 0. 0. 0. 0. 0. 0. 0.]]\n"
     ]
    }
   ],
   "source": [
    "#How close are we to the requirements?\n",
    "print(np.matmul(A,exact_ans.x))\n",
    "print(b)\n",
    "print(np.around(100*abs((np.matmul(A,exact_ans.x)-b)/b),2))"
   ]
  },
  {
   "cell_type": "code",
   "execution_count": null,
   "id": "39cb1657-ca7d-454a-95e5-a4031aced21c",
   "metadata": {},
   "outputs": [],
   "source": []
  }
 ],
 "metadata": {
  "kernelspec": {
   "display_name": "Python 3 (ipykernel)",
   "language": "python",
   "name": "python3"
  },
  "language_info": {
   "codemirror_mode": {
    "name": "ipython",
    "version": 3
   },
   "file_extension": ".py",
   "mimetype": "text/x-python",
   "name": "python",
   "nbconvert_exporter": "python",
   "pygments_lexer": "ipython3",
   "version": "3.9.7"
  }
 },
 "nbformat": 4,
 "nbformat_minor": 5
}
