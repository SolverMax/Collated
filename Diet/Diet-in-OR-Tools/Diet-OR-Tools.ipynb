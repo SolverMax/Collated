{
 "cells": [
  {
   "cell_type": "markdown",
   "id": "02118d0c-9e9f-4546-a85a-a22bb2ef23b9",
   "metadata": {},
   "source": [
    "# The Stigler diet problem\n",
    "Source: https://developers.google.com/optimization/lp/stigler_diet\n",
    "\n",
    "A description of the problem can be found at https://en.wikipedia.org/wiki/Stigler_diet"
   ]
  },
  {
   "cell_type": "code",
   "execution_count": 1,
   "id": "28a09e2b-52e3-4f4a-9b3f-6970eabaf2ac",
   "metadata": {},
   "outputs": [],
   "source": [
    "from ortools.linear_solver import pywraplp\n",
    "from dietdata import *"
   ]
  },
  {
   "cell_type": "code",
   "execution_count": 2,
   "id": "9ffffeaa-a8d5-4a4d-a8f3-b3e9d45cf2e6",
   "metadata": {},
   "outputs": [],
   "source": [
    "def main():\n",
    "    solver = pywraplp.Solver.CreateSolver('GLOP')\n",
    "    if not solver:\n",
    "        return\n",
    "\n",
    "    foods = [solver.NumVar(0.0, solver.infinity(), item[0]) for item in data]    # Declare an array to hold our variables\n",
    "    print('Number of variables =', solver.NumVariables())\n",
    "\n",
    "    constraints = []    # Create the constraints, one per nutrient\n",
    "    for i, nutrient in enumerate(nutrients):\n",
    "        constraints.append(solver.Constraint(nutrient[1], solver.infinity()))\n",
    "        for j, item in enumerate(data):\n",
    "            constraints[i].SetCoefficient(foods[j], item[i + 3])\n",
    "    print('Number of constraints =', solver.NumConstraints())\n",
    "\n",
    "    objective = solver.Objective()    # Objective function: Minimize the sum of (price-normalized) foods\n",
    "    for food in foods:\n",
    "        objective.SetCoefficient(food, 1)\n",
    "    objective.SetMinimization()\n",
    "\n",
    "    status = solver.Solve()\n",
    "\n",
    "    if status != solver.OPTIMAL:    # Check that the problem has an optimal solution\n",
    "        print('The problem does not have an optimal solution!')\n",
    "        if status == solver.FEASIBLE:\n",
    "            print('A potentially suboptimal solution was found.')\n",
    "        else:\n",
    "            print('The solver could not solve the problem.')\n",
    "            exit(1)\n",
    "\n",
    "    nutrients_result = [0] * len(nutrients)    # Display the amounts (in dollars) to purchase of each food\n",
    "    print('\\nAnnual Foods')\n",
    "    print('----------------------------------')\n",
    "    for i, food in enumerate(foods):\n",
    "        if food.solution_value() > 0.0:\n",
    "            print('{:<25}  ${:>6.2f}'.format(data[i][0], 365. * food.solution_value()))\n",
    "            for j, _ in enumerate(nutrients):\n",
    "                nutrients_result[j] += data[i][j + 3] * food.solution_value()\n",
    "    print('----------------------------------')\n",
    "    print('Optimal annual price       ${:>6.2f}'.format(365. * objective.Value()))\n",
    "\n",
    "    print('\\nNutrients per day')\n",
    "    print('--------------------------------------')\n",
    "    for i, nutrient in enumerate(nutrients):\n",
    "        print('{:<17}  {:>7.2f} (min {:>5.1f})'.format(nutrient[0], nutrients_result[i], nutrient[1]))\n",
    "\n",
    "    print('\\nAdvanced usage:')\n",
    "    print('Problem solved in', solver.wall_time(), 'milliseconds')\n",
    "    print('Problem solved in', solver.iterations(), 'iterations')"
   ]
  },
  {
   "cell_type": "code",
   "execution_count": 3,
   "id": "2a0fa2bc-566d-4a73-95fc-11cf7f2c7bed",
   "metadata": {},
   "outputs": [
    {
     "name": "stdout",
     "output_type": "stream",
     "text": [
      "Number of variables = 77\n",
      "Number of constraints = 9\n",
      "\n",
      "Annual Foods\n",
      "----------------------------------\n",
      "Wheat Flour (Enriched)     $ 10.77\n",
      "Liver (Beef)               $  0.69\n",
      "Cabbage                    $  4.09\n",
      "Spinach                    $  1.83\n",
      "Navy Beans, Dried          $ 22.28\n",
      "----------------------------------\n",
      "Optimal annual price       $ 39.66\n",
      "\n",
      "Nutrients per day\n",
      "--------------------------------------\n",
      "Calories (kcal)       3.00 (min   3.0)\n",
      "Protein (g)         147.41 (min  70.0)\n",
      "Calcium (g)           0.80 (min   0.8)\n",
      "Iron (mg)            60.47 (min  12.0)\n",
      "Vitamin A (KIU)       5.00 (min   5.0)\n",
      "Vitamin B1 (mg)       4.12 (min   1.8)\n",
      "Vitamin B2 (mg)       2.70 (min   2.7)\n",
      "Niacin (mg)          27.32 (min  18.0)\n",
      "Vitamin C (mg)       75.00 (min  75.0)\n",
      "\n",
      "Advanced usage:\n",
      "Problem solved in 1 milliseconds\n",
      "Problem solved in 14 iterations\n"
     ]
    }
   ],
   "source": [
    "if __name__ == '__main__':\n",
    "    main()"
   ]
  }
 ],
 "metadata": {
  "kernelspec": {
   "display_name": "Python 3 (ipykernel)",
   "language": "python",
   "name": "python3"
  },
  "language_info": {
   "codemirror_mode": {
    "name": "ipython",
    "version": 3
   },
   "file_extension": ".py",
   "mimetype": "text/x-python",
   "name": "python",
   "nbconvert_exporter": "python",
   "pygments_lexer": "ipython3",
   "version": "3.9.7"
  }
 },
 "nbformat": 4,
 "nbformat_minor": 5
}
