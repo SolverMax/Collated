{
 "cells": [
  {
   "cell_type": "markdown",
   "id": "57d398a2-9a8b-4b7a-bae3-e9a3ebbc0ef3",
   "metadata": {},
   "source": [
    "# The Diet Problem\n",
    "Source: https://notebook.community/Pyomo/PyomoGallery/diet/DietProblem\n",
    "\n",
    "## Summary\n",
    "\n",
    "The goal of the Diet Problem is to select foods that satisfy daily nutritional requirements at minimum cost. This problem can be formulated as a linear program, for which constraints limit the number of calories and the amount of vitamins, minerals, fats, sodium, and cholesterol in the diet. Danzig (1990) notes that the diet problem was motivated by the US Army's desire to minimize the cost of feeding GIs in the field while still providing a healthy diet.\n",
    "\n",
    "## Problem Statement\n",
    "\n",
    "The Diet Problem can be formulated mathematically as a linear programming problem using the following model.  \n",
    "\n",
    "### Sets\n",
    "\n",
    " $F$ = set of foods  \n",
    " $N$ = set of nutrients\n",
    "\n",
    "### Parameters\n",
    "\n",
    " $c_i$ = cost per serving of food $i$, $\\forall i \\in F$  \n",
    " $a_{ij}$ = amount of nutrient $j$ in food $i$, $\\forall i \\in F, \\forall j \\in N$  \n",
    " $Nmin_j$ = minimum level of nutrient $j$, $\\forall j \\in N$  \n",
    " $Nmax_j$ = maximum level of nutrient $j$, $\\forall j \\in N$  \n",
    " $V_i$ = the volume per serving of food $i$, $\\forall i \\in F$  \n",
    " $Vmax$ = maximum volume of food consumed\n",
    " \n",
    "### Variables\n",
    " $x_i$ = number of servings of food $i$ to consume\n",
    "\n",
    "### Objective\n",
    "\n",
    "Minimize the total cost of the food  \n",
    " $\\min \\sum_{i \\in F} c_i x_i$\n",
    "\n",
    "### Constraints\n",
    "\n",
    "Limit nutrient consumption for each nutrient $j \\in N$.  \n",
    " $Nmin_j \\leq \\sum_{i \\in F} a_{ij} x_i \\leq Nmax_j$, $\\forall j \\in N$\n",
    "\n",
    "Limit the volume of food consumed  \n",
    " $\\sum_{i \\in F} V_i x_i \\leq Vmax$\n",
    " \n",
    "Consumption lower bound  \n",
    " $x_i \\geq 0$, $\\forall i \\in F$\n",
    "\n",
    "## Pyomo Formulation\n",
    "\n",
    "We begin by importing the Pyomo package and creating a model object:"
   ]
  },
  {
   "cell_type": "code",
   "execution_count": 1,
   "id": "1e39d1a2-6bc0-410f-8220-71a8d6470080",
   "metadata": {},
   "outputs": [],
   "source": [
    "from pyomo.environ import *\n",
    "infinity = float('inf')\n",
    "\n",
    "model = AbstractModel(name=\"Diet\")"
   ]
  },
  {
   "cell_type": "markdown",
   "id": "d49c810d-858a-4fb8-bf9c-ef36ac6a14b7",
   "metadata": {},
   "source": [
    "The sets $F$ and $N$ are declared abstractly using the `Set` component:"
   ]
  },
  {
   "cell_type": "code",
   "execution_count": 2,
   "id": "36bbe2c1-9ae8-46b3-af1a-095e6b9a001f",
   "metadata": {},
   "outputs": [],
   "source": [
    "# Foods\n",
    "model.F = Set()\n",
    "# Nutrients\n",
    "model.N = Set()"
   ]
  },
  {
   "cell_type": "markdown",
   "id": "6138299c-0b3c-4620-b3d4-34e538e2873f",
   "metadata": {},
   "source": [
    "Similarly, the model parameters are defined abstractly using the `Param` component:"
   ]
  },
  {
   "cell_type": "code",
   "execution_count": 3,
   "id": "44361421-2f0b-4920-b3be-9dad9ed7acc4",
   "metadata": {},
   "outputs": [],
   "source": [
    "# Cost of each food\n",
    "model.c    = Param(model.F, within=PositiveReals)\n",
    "# Amount of nutrient in each food\n",
    "model.a    = Param(model.F, model.N, within=NonNegativeReals)\n",
    "# Lower and upper bound on each nutrient\n",
    "model.Nmin = Param(model.N, within=NonNegativeReals, default=0.0)\n",
    "model.Nmax = Param(model.N, within=NonNegativeReals, default=infinity)\n",
    "# Volume per serving of food\n",
    "model.V    = Param(model.F, within=PositiveReals)\n",
    "# Maximum volume of food consumed\n",
    "model.Vmax = Param(within=PositiveReals)"
   ]
  },
  {
   "cell_type": "markdown",
   "id": "38dfab26-25c2-4cec-8a93-0d8134a5bf5a",
   "metadata": {},
   "source": [
    "The `within` option is used in these parameter declarations to define expected properties of the parameters.  This information is used to perform error checks on the data that is used to initialize the parameter components.\n",
    "\n",
    "The `Var` component is used to define the decision variables:"
   ]
  },
  {
   "cell_type": "code",
   "execution_count": 4,
   "id": "b8d10c77-ca26-4e0f-b6cd-8e869173cab2",
   "metadata": {},
   "outputs": [],
   "source": [
    "# Number of servings consumed of each food\n",
    "model.x = Var(model.F, within=NonNegativeIntegers)"
   ]
  },
  {
   "cell_type": "markdown",
   "id": "fa2f73ca-57e2-44d6-be9a-73134bcb3fad",
   "metadata": {},
   "source": [
    "The `within` option is used to restrict the domain of the decision variables to the non-negative reals. This eliminates the need for explicit bound constraints for variables.\n",
    "\n",
    "The `Objective` component is used to define the cost objective.  This component uses a rule function to construct the objective expression:"
   ]
  },
  {
   "cell_type": "code",
   "execution_count": 5,
   "id": "d4aed884-b085-45b2-906c-0c8565360834",
   "metadata": {},
   "outputs": [],
   "source": [
    "# Minimize the cost of food that is consumed\n",
    "def cost_rule(model):\n",
    "    return sum(model.c[i]*model.x[i] for i in model.F)\n",
    "model.cost = Objective(rule=cost_rule)"
   ]
  },
  {
   "cell_type": "markdown",
   "id": "6837e39e-b3f0-4b8e-b3a7-05de0fbcbe3f",
   "metadata": {},
   "source": [
    "Similarly, rule functions are used to define constraint expressions in the `Constraint` component:"
   ]
  },
  {
   "cell_type": "code",
   "execution_count": 6,
   "id": "0cd1cdbb-1c96-4d77-ab3f-6e6f6f0b4fb2",
   "metadata": {},
   "outputs": [],
   "source": [
    "# Limit nutrient consumption for each nutrient\n",
    "def nutrient_rule(model, j):\n",
    "    value = sum(model.a[i,j]*model.x[i] for i in model.F)\n",
    "    return inequality(model.Nmin[j], value, model.Nmax[j])\n",
    "model.nutrient_limit = Constraint(model.N, rule=nutrient_rule)\n",
    "\n",
    "# Limit the volume of food consumed\n",
    "def volume_rule(model):\n",
    "    return sum(model.V[i]*model.x[i] for i in model.F) <= model.Vmax\n",
    "model.volume = Constraint(rule=volume_rule)"
   ]
  },
  {
   "cell_type": "markdown",
   "id": "a2758a41-afd6-47fc-8d00-20929f37c637",
   "metadata": {},
   "source": [
    "Putting these declarations all together gives the model."
   ]
  },
  {
   "cell_type": "markdown",
   "id": "e17c277f-71a7-417e-b3f6-db91e7f6a5f0",
   "metadata": {},
   "source": [
    "## Model Data\n",
    "\n",
    "Since this is an abstract Pyomo model, the set and parameter values need to be provided to initialize the model. The data is in the command file diet.dat"
   ]
  },
  {
   "cell_type": "markdown",
   "id": "948088b4-8c7b-4178-8e98-85b6eaf1e6ec",
   "metadata": {},
   "source": [
    "Set data is defined with the `set` command, and parameter data is defined with the `param` command.\n",
    "\n",
    "This data set considers the problem of designing a daily diet with only food from a fast food chain.\n",
    "\n",
    "## Solution\n",
    "\n",
    "Pyomo includes a `pyomo` command that automates the construction and optimization of models.  The GLPK solver can be used in this simple example:"
   ]
  },
  {
   "cell_type": "code",
   "execution_count": 7,
   "id": "ca5a1980-eb7d-4410-a91b-cb044b7293e8",
   "metadata": {},
   "outputs": [
    {
     "name": "stdout",
     "output_type": "stream",
     "text": [
      "Model Diet\n",
      "\n",
      "  Variables:\n",
      "    x : Size=9, Index=F\n",
      "        Key              : Lower : Value : Upper : Fixed : Stale : Domain\n",
      "            Cheeseburger :     0 :   4.0 :  None : False : False : NonNegativeIntegers\n",
      "        Chicken Sandwich :     0 :   0.0 :  None : False : False : NonNegativeIntegers\n",
      "           Fish Sandwich :     0 :   1.0 :  None : False : False : NonNegativeIntegers\n",
      "                   Fries :     0 :   5.0 :  None : False : False : NonNegativeIntegers\n",
      "            Ham Sandwich :     0 :   0.0 :  None : False : False : NonNegativeIntegers\n",
      "               Hamburger :     0 :   0.0 :  None : False : False : NonNegativeIntegers\n",
      "             Lowfat Milk :     0 :   4.0 :  None : False : False : NonNegativeIntegers\n",
      "            Orange Juice :     0 :   0.0 :  None : False : False : NonNegativeIntegers\n",
      "         Sausage Biscuit :     0 :   0.0 :  None : False : False : NonNegativeIntegers\n",
      "\n",
      "  Objectives:\n",
      "    cost : Size=1, Index=None, Active=True\n",
      "        Key  : Active : Value\n",
      "        None :   True : 15.05\n",
      "\n",
      "  Constraints:\n",
      "    nutrient_limit : Size=7\n",
      "        Key     : Lower  : Body   : Upper\n",
      "            Cal : 2000.0 : 3950.0 :  None\n",
      "           Calc :  100.0 :  255.0 :  None\n",
      "          Carbo :  350.0 :  352.0 : 375.0\n",
      "           Iron :  100.0 :  100.0 :  None\n",
      "        Protein :   55.0 :  177.0 :  None\n",
      "           VitA :  100.0 :  102.0 :  None\n",
      "           VitC :  100.0 :  115.0 :  None\n",
      "    volume : Size=1\n",
      "        Key  : Lower : Body : Upper\n",
      "        None :  None : 66.0 :  75.0\n"
     ]
    }
   ],
   "source": [
    "instance = model.create_instance(\"diet.dat\")\n",
    "solver = SolverFactory('glpk')\n",
    "result = solver.solve(instance, tee = False)\n",
    "instance.display()"
   ]
  },
  {
   "cell_type": "markdown",
   "id": "07f9375e-f0d0-403c-a0c1-ab19078280eb",
   "metadata": {},
   "source": [
    "## Interpretation of solution\n",
    "This solution shows that for $15.05 per day, a person can get by with 4 cheeseburgers, 5 fries, 1 fish sandwich and 4 milks."
   ]
  },
  {
   "cell_type": "markdown",
   "id": "5a197b3a-6083-4264-be6a-598842990491",
   "metadata": {},
   "source": [
    "## References\n",
    "\n",
    "* G.B. Dantzig. The Diet Problem, Interfaces 20(4), 1990, 43-47"
   ]
  }
 ],
 "metadata": {
  "kernelspec": {
   "display_name": "Python 3 (ipykernel)",
   "language": "python",
   "name": "python3"
  },
  "language_info": {
   "codemirror_mode": {
    "name": "ipython",
    "version": 3
   },
   "file_extension": ".py",
   "mimetype": "text/x-python",
   "name": "python",
   "nbconvert_exporter": "python",
   "pygments_lexer": "ipython3",
   "version": "3.9.7"
  }
 },
 "nbformat": 4,
 "nbformat_minor": 5
}
